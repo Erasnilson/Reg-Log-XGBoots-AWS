{
  "cells": [
    {
      "cell_type": "markdown",
      "metadata": {
        "id": "view-in-github",
        "colab_type": "text"
      },
      "source": [
        "<a href=\"https://colab.research.google.com/github/Erasnilson/Reg-Log-XGBoots-AWS/blob/main/Xgboost_classificacao_census_comentado.ipynb\" target=\"_parent\"><img src=\"https://colab.research.google.com/assets/colab-badge.svg\" alt=\"Open In Colab\"/></a>"
      ]
    },
    {
      "cell_type": "markdown",
      "metadata": {
        "id": "W7H8MFKji2Ta"
      },
      "source": [
        "# Regressão Logística via algoritmo XGBoots - Aplicação via Sagemaker da AWS (Modelagem Machine Learn)\n"
      ]
    },
    {
      "cell_type": "markdown",
      "source": [
        "## **Tratamento da base de dados**\n",
        "\n",
        "\n",
        "### - Organizar a base de dados no formato {y, x1, x2, ..., xn} para modelagem de classificação **via Sagemaker da AWS**.\n",
        "```\n",
        "colunas = []\n",
        "colunas.append('income')                        # incluíndo a primeira coluna var resposta y (necessário no AWS)\n",
        "for i in range(len(base_census.columns[:-1])):  # removendo a última coluna y - icome\n",
        "     colunas.append(base_census.columns[i])\n",
        "base_census = base_census[colunas]\n",
        "base_census\n",
        "```\n",
        "\n",
        "### - Configurar a **variável resposta como dummy**.\n",
        "- Se y for ' >50K'-> 1, caso contrário ->0 (AWS só compila valor\n",
        "numérico)\n",
        "\n",
        "```\n",
        "def functiondymmy(text):\n",
        "    if text == ' >50K':\n",
        "        return 1.0\n",
        "    else:\n",
        "        return 0.0\n",
        "```\n",
        "\n",
        "- aplicar a transformação dicotómica:\n",
        "```\n",
        "base_census['income'] = base_census['income'].apply(functiondymmy)\n",
        "```\n",
        "\n",
        "### - As variáveis qualitativas não são convertidas automaticamente em dummys(matriz de delineamento), logo, os fatores (variáveis qualitativas) como sexo, educação etc, precisam ser ser **transformadas em números** para a análise do algoritmo.\n",
        "```\n",
        "base_census = pd.get_dummies(base_census,prefix=['workclass', 'education', 'marital-status', 'occupation', 'relationship', 'race', 'sex', 'inative-country'],\n",
        "                            columns = ['workclass', 'education', 'marital-status', 'occupation', 'relationship', 'race',\n",
        "                            'sex', 'inative-country'],\n",
        "                            dtype='int') #incluido dtype='int', pois no colab não identificou 0 ou 1\n",
        "```\n",
        "\n",
        "### - As especificações das Variáveis X e Y, via AWS, são realizadas **sem os rótulos das variáveis e sem os índices**. Assim, o algoritmo deverá compilar apenas os valores que serão transformados em formato binário.\n",
        "```\n",
        "X_teste = base_teste.iloc[:,1:len(base_census)].values\n",
        "y_teste = base_teste.iloc[:, 0].values\n",
        "```\n"
      ],
      "metadata": {
        "id": "eYLzogQHjYbn"
      }
    },
    {
      "cell_type": "markdown",
      "source": [
        "# **Configurações SageMaker**"
      ],
      "metadata": {
        "id": "7nsTVfKm1lEj"
      }
    },
    {
      "cell_type": "markdown",
      "source": [
        "## - A configuração do Sagemaker envolve a **comunicação do AWS(sagemaker)** com python e o **acesso para a gravação de arquivos** específicos (treino e teste)\n",
        "\n",
        "```\n",
        "import sagemaker\n",
        "import boto3                           # faz a comunicação da AWS com o python (específica da AWS)\n",
        "from sagemaker import Session\n",
        "import sagemaker.amazon.common as smac # sagemaker commom library\n",
        "import io                              # grava a base de dados no formato S3\n",
        "import os                              # utilizado para acessar os recursos do sistema operacional\n",
        "```\n",
        "\n",
        "## - Após a criação do bucket (cursoawssagemaker) e do usuário, é necessário especificar os caminhos (diretórios) para a geração dos modelos e para os arquivos de treino e teste, além de configurar as permissões adequadas.\n",
        "\n",
        "```\n",
        "session = sagemaker.Session()\n",
        "bucket = 'cursoawssagemaker'               # bucket armazenado no S3\n",
        "subpasta_modelo = 'modelos/census/xgboost' # local para armazenar os modelos\n",
        "subpasta_dataset = 'datasets/census'\n",
        "key_train = 'census-train-data-xgboost'    # nome do arquivo train\n",
        "key_test = 'census-test-data-xgboost'      # nome do arquivo teste\n",
        "role = sagemaker.get_execution_role()      # permissões\n",
        "\n",
        "# variável que indica o caminho para o arquivo train e test\n",
        "s3_train_data = 's3://{}/{}/train/{}'.format(bucket, subpasta_dataset, key_train)                                 \n",
        "s3_test_data = 's3://{}/{}/test/{}'.format(bucket, subpasta_dataset, key_test)\n",
        "\n",
        "# local onde o modelo será armazenado no S3\n",
        "output_location = 's3://{}/{}/output'.format(bucket, subpasta_modelo)\n",
        "print('Role: {}'.format(role))\n",
        "\n",
        "# print para visualização dos caminhos especificados\n",
        "print('Localização da base de treinamento: {}'.format(s3_train_data))\n",
        "print('Localização da base de teste: {}'.format(s3_test_data))\n",
        "print('Modelo final será salvo em: {}'.format(output_location))\n",
        "```\n",
        "\n",
        "## - Pro fim, é necessário converter os dados que estão em formato numpy para binário, para enviar ao S3.\n",
        "\n",
        "```\n",
        "with open('census_train_xgboost.csv', 'rb') as f:\n",
        "    boto3.Session().resource('s3').Bucket(bucket).Object(os.path.join(subpasta_dataset, 'train', key_train)).upload_fileobj(f)\n",
        "\n",
        "with open('census_test_xgboost.csv', 'rb') as f:\n",
        "    boto3.Session().resource('s3').Bucket(bucket).Object(os.path.join(subpasta_dataset, 'test', key_test)).upload_fileobj(f)\n",
        "```\n",
        "\n"
      ],
      "metadata": {
        "id": "fpAouhZJ1jOF"
      }
    },
    {
      "cell_type": "markdown",
      "source": [
        "# **Treinamento do XGBoost**\n",
        "\n",
        "## Ao realizar o treinamento do modelo é preciso espcificar uma instância, a depender da instância selecionada pode ser cobrado um valor por hora. Para mais detalhes, consultar a tabela de preço do sagemaker https://aws.amazon.com/pt/sagemaker/pricing/.\n",
        "\n",
        "\n",
        "\n",
        "```\n",
        "# https://docs.aws.amazon.com/sagemaker/latest/dg/ecr-sa-east-1.html\n",
        "from sagemaker import image_uris\n",
        "container = image_uris.retrieve(framework = 'xgboost', region=boto3.Session().region_name, version='latest')\n",
        "```\n",
        "\n",
        "\n",
        "### - Blocos de anotações do Studio e instâncias de blocos de anotações sob demanda - Uso do nível **gratuito** por mês **pelos primeiros dois meses** - **250 horas da instância ml.t3.medium** em blocos de anotações do Studio OU **250 horas da instância ml.t2 medium** ou **ml.t3.medium em blocos de anotações sob demanda**.\n",
        "\n",
        "🔴 A instância **ml.m5.2xlarge** (tem 8vCPU e 32 GiB) **custa\t0,461 USD/h**, conforme custos https://aws.amazon.com/pt/sagemaker/pricing/\n",
        "```\n",
        "# https://sagemaker.readthedocs.io/en/stable/api/training/estimators.html\n",
        "xgboost = sagemaker.estimator.Estimator(image_uri = container,\n",
        "                                        role = role,\n",
        "                                        instance_count = 1,\n",
        "                                        instance_type = 'ml.m5.2xlarge',\n",
        "                                        output_path = output_location,\n",
        "                                        sagemaker_session = session)\n",
        "```\n",
        "\n",
        "\n",
        "\n",
        "\n",
        "```\n",
        "# https://docs.aws.amazon.com/sagemaker/latest/dg/xgboost_hyperparameters.html\n",
        "xgboost.set_hyperparameters(num_round = 100, objective = 'reg:logistic')   #trabalhando com reg logística\n",
        "```\n",
        "\n",
        "\n",
        "\n",
        "\n",
        "```\n",
        "train_input = sagemaker.inputs.TrainingInput(s3_data = s3_train_data, content_type='csv', s3_data_type = 'S3Prefix')\n",
        "validation_input = sagemaker.inputs.TrainingInput(s3_data = s3_test_data, content_type='csv', s3_data_type = 'S3Prefix')\n",
        "data_channels = {'train': train_input, 'validation': validation_input}\n",
        "```\n",
        "\n",
        "\n",
        "\n",
        "```\n",
        "xgboost.fit(data_channels) #realizando o ajuste do modelo\n",
        "```\n",
        "\n",
        "Ao final, verificar ser o Endpoint foi gerado no ``inference'' do sagemaker.\n",
        "🔴 OBS, após utilizar o **Endpoint** apagar para não haver cobranças.\n",
        "\n",
        "\n"
      ],
      "metadata": {
        "id": "trjzIMAV9njY"
      }
    },
    {
      "cell_type": "markdown",
      "source": [
        "# **Deploy, previsões e avaliação**"
      ],
      "metadata": {
        "id": "lXCFXoo-ZDT-"
      }
    },
    {
      "cell_type": "markdown",
      "source": [
        "- Avaliação do Modelo\n",
        "\n",
        "```\n",
        "xgboost_classifier = xgboost.deploy(initial_instance_count = 1, instance_type = 'ml.m4.xlarge')\n",
        "```\n",
        "\n",
        "- configurar o classificador, agora serão convertidas para csv (antes estava em numpy)\n",
        "\n",
        "```\n",
        "from sagemaker.serializers import CSVSerializer\n",
        "xgboost_classifier.serializer = CSVSerializer()\n",
        "X_teste.shape, type(X_teste)\n",
        "```\n",
        "\n",
        "\n",
        "- Realizar as previsões. Agora, são retornadas as probabilidades (0 - 1). Uma alternativa é reclassificar, se >= 0,5 será classificado como 1, caso contrário 0.\n",
        "\n",
        "```\n",
        "# Não converter true=1, o python deverá ajustar automaticamente\n",
        "previsoes = (previsoes >= 0.5)\n",
        "print(previsoes)\n",
        "```\n",
        "\n",
        "- Utilizar o pacote sklearn para obter matrix de confusão do modelo.\n",
        "\n",
        "```\n",
        "from sklearn.metrics import confusion_matrix, classification_report, accuracy_score\n",
        "cm = confusion_matrix(y_teste, previsoes)\n",
        "cm\n",
        "```\n",
        "\n",
        "- No exemplo do curso, nota-se que a acurácia do modelo foi XGboost foi melhor que o linear-learner. Abaixo temos, que o algoritmo XGboost apresentou um desempenho de recall de 0,66 para a classificação 1, com uma precisão de 78% e para a classificação 0, tem-se um recall de 94% com precisão de 89%.\n",
        "\n",
        "```\n",
        "print(classification_report(y_teste, previsoes))\n",
        "              precision    recall  f1-score   support\n",
        "\n",
        "         0.0       0.89      0.94      0.92      7365\n",
        "         1.0       0.78      0.66      0.71      2404\n",
        "\n",
        "    accuracy                           0.87      9769\n",
        "   macro avg       0.84      0.80      0.81      9769\n",
        "weighted avg       0.87      0.87      0.87      9769\n",
        "```\n",
        "\n",
        "\n",
        "\n",
        "\n"
      ],
      "metadata": {
        "id": "8MdiwLESZGTx"
      }
    },
    {
      "cell_type": "markdown",
      "source": [
        "# **Tuning**"
      ],
      "metadata": {
        "id": "cK8wpRceeWCd"
      }
    },
    {
      "cell_type": "markdown",
      "source": [
        "- No tuning iremos gerar vários modelos a partir de reamostragens, nesse caso serão solicitado **9 modelo**. Deve-se utilizar a comparação do **menor erro** para obter as estimativas dos parâmetros e realizar o novo modelo com tais estimativas.\n",
        "\n",
        "```\n",
        "# https://docs.aws.amazon.com/sagemaker/latest/dg/xgboost_hyperparameters.html\n",
        "tuning_job_config = {\n",
        "    \"ParameterRanges\": {\n",
        "      \"CategoricalParameterRanges\": [],\n",
        "      \"ContinuousParameterRanges\": [\n",
        "        {\n",
        "          \"MaxValue\": \"1\",\n",
        "          \"MinValue\": \"0\",\n",
        "          \"Name\": \"eta\"\n",
        "        },\n",
        "        {\n",
        "          \"MaxValue\": \"2\",\n",
        "          \"MinValue\": \"0\",\n",
        "          \"Name\": \"alpha\"\n",
        "        },\n",
        "        {\n",
        "          \"MaxValue\": \"10\",\n",
        "          \"MinValue\": \"1\",\n",
        "          \"Name\": \"min_child_weight\"\n",
        "        }\n",
        "      ],\n",
        "      \"IntegerParameterRanges\": [\n",
        "        {\n",
        "          \"MaxValue\": \"10\",\n",
        "          \"MinValue\": \"1\",\n",
        "          \"Name\": \"max_depth\"\n",
        "        }\n",
        "      ],\n",
        "      \"IntegerParameterRanges\": [\n",
        "        {\n",
        "          \"MaxValue\": \"300\",\n",
        "          \"MinValue\": \"50\",\n",
        "          \"Name\": \"num_round\"\n",
        "        }\n",
        "      ]\n",
        "    },\n",
        "    \"ResourceLimits\": {\n",
        "      \"MaxNumberOfTrainingJobs\": 9,        #<-------------------------\n",
        "      \"MaxParallelTrainingJobs\": 3\n",
        "    },\n",
        "    \"Strategy\": \"Bayesian\",\n",
        "    \"HyperParameterTuningJobObjective\": {\n",
        "      \"MetricName\": \"validation:error\",    #<--e não rmse---------------\n",
        "      \"Type\": \"Minimize\"\n",
        "    }\n",
        "  }\n",
        "```\n",
        "\n",
        "\n",
        "\n",
        "\n",
        "```\n",
        "# https://www.analyticsvidhya.com/blog/2016/03/complete-guide-parameter-tuning-xgboost-with-codes-python/\n",
        "training_job_definition = {\n",
        "    \"AlgorithmSpecification\": {\n",
        "      \"TrainingImage\": container,\n",
        "      \"TrainingInputMode\": \"File\"\n",
        "    },\n",
        "    \"InputDataConfig\": [\n",
        "      {\n",
        "        \"ChannelName\": \"train\",\n",
        "        \"CompressionType\": \"None\",\n",
        "        \"ContentType\": \"csv\",\n",
        "        \"DataSource\": {\n",
        "          \"S3DataSource\": {\n",
        "            \"S3DataDistributionType\": \"FullyReplicated\",\n",
        "            \"S3DataType\": \"S3Prefix\",\n",
        "            \"S3Uri\": s3_train_data\n",
        "          }\n",
        "        }\n",
        "      },\n",
        "      {\n",
        "        \"ChannelName\": \"validation\",\n",
        "        \"CompressionType\": \"None\",\n",
        "        \"ContentType\": \"csv\",\n",
        "        \"DataSource\": {\n",
        "          \"S3DataSource\": {\n",
        "            \"S3DataDistributionType\": \"FullyReplicated\",\n",
        "            \"S3DataType\": \"S3Prefix\",\n",
        "            \"S3Uri\": s3_test_data\n",
        "          }\n",
        "        }\n",
        "      }\n",
        "    ],\n",
        "    \"OutputDataConfig\": {\n",
        "      \"S3OutputPath\": \"s3://{}/{}/output\".format(bucket,subpasta_modelo)\n",
        "    },\n",
        "    \"ResourceConfig\": {\n",
        "      \"InstanceCount\": 2,\n",
        "      \"InstanceType\": \"ml.c4.2xlarge\",\n",
        "      \"VolumeSizeInGB\": 10\n",
        "    },\n",
        "    \"RoleArn\": role,\n",
        "    \"StaticHyperParameters\": {\n",
        "      \"eval_metric\": \"error\",\n",
        "      \"objective\": \"binary:logistic\",\n",
        "      \"rate_drop\": \"0.3\",\n",
        "      \"tweedie_variance_power\": \"1.4\"\n",
        "    },\n",
        "    \"StoppingCondition\": {\n",
        "      \"MaxRuntimeInSeconds\": 43200\n",
        "    }\n",
        "}\n",
        "```\n",
        "\n",
        "\n",
        "- Por fim, deve-se executar o codigo a seguir para realizar o tunning dos parâmetros. Ao finalizar, pode-se verificar os modelos e suas estatísticas na guia Training, Hyperparameter tuning jobs (clicar no best training job) - copiar os parâmetros e jogar no novo modelo.\n",
        "\n",
        "```\n",
        "smclient = boto3.client('sagemaker')\n",
        "smclient.create_hyper_parameter_tuning_job(HyperParameterTuningJobName = \"xgboosttuningcensus\",\n",
        "                                          HyperParameterTuningJobConfig = tuning_job_config,\n",
        "                                          TrainingJobDefinition = training_job_definition)\n",
        "\n",
        "```\n"
      ],
      "metadata": {
        "id": "q20YlXEheb57"
      }
    },
    {
      "cell_type": "markdown",
      "source": [
        "# **Construção do novo modelo**\n",
        "\n",
        "\n",
        "- Ao verificar o melhor modelo, obtido pelo tuning, deve-se copiar as estimativas dos parâmetros e substituir no parâmetros da programação a seguir:\n",
        "\n",
        "```\n",
        "container = image_uris.retrieve(framework='xgboost',region=boto3.Session().region_name,version='latest')\n",
        "xgboost_tuning = sagemaker.estimator.Estimator(image_uri = container,\n",
        "                                        role = role,\n",
        "                                        instance_count = 1,\n",
        "                                        instance_type = 'ml.m5.2xlarge',\n",
        "                                        output_path = output_location,\n",
        "                                        sagemaker_session = session)\n",
        "xgboost_tuning.set_hyperparameters(num_round = 102, eta = 0.14507612435685635,\n",
        "                                   min_child_weight = 2.412681801757289,\n",
        "                                   alpha = 0.3189676727624047, tweedie_variance_power = 1.4,\n",
        "                                   rate_drop = 0.3)\n",
        "xgboost_tuning.fit(data_channels)\n",
        "```\n",
        "\n",
        "- Geração dos Endpoints\n",
        "\n",
        "```\n",
        "xgboost_classifier_tuning = xgboost_tuning.deploy(initial_instance_count = 1, instance_type = 'ml.m4.xlarge')\n",
        "```\n",
        "\n",
        "- Buscar as previsões (probabilidades)\n",
        "\n",
        "```\n",
        "from sagemaker.serializers import CSVSerializer\n",
        "xgboost_classifier_tuning.serializer = CSVSerializer()\n",
        "previsoes = np.array(xgboost_classifier_tuning.predict(X_teste).decode('utf-8').split(',')).astype(np.float32)\n",
        "```\n",
        "\n",
        "- Transformar as previsões\n",
        "\n",
        "```\n",
        "previsoes = (previsoes >= 0.5)\n",
        "# deixar em formato inteiro (saida em true or false)\n",
        "y_teste = np.array(y_teste).astype(int)\n",
        "y_teste   # previsoes.shape, y_teste.shape\n",
        "```\n",
        "- Obtendo acurácia do modelo\n",
        "\n",
        "```\n",
        "from sklearn.metrics import confusion_matrix, classification_report, accuracy_score\n",
        "cm = confusion_matrix(y_teste, previsoes)\n",
        "cm\n",
        "#accuracy_score(y_teste, previsoes)\n",
        "```\n",
        "- Resultado final\n",
        "\n",
        "```\n",
        "print(classification_report(y_teste, previsoes))\n",
        "              precision    recall  f1-score   support\n",
        "\n",
        "           0       0.89      0.95      0.92      7365\n",
        "           1       0.80      0.64      0.71      2404\n",
        "\n",
        "    accuracy                           0.87      9769\n",
        "   macro avg       0.84      0.80      0.82      9769\n",
        "weighted avg       0.87      0.87      0.87      9769\n",
        "```\n",
        "\n"
      ],
      "metadata": {
        "id": "ju0tAtjgg0wd"
      }
    },
    {
      "cell_type": "markdown",
      "source": [
        "## A seguir, será apresentado os comando a serem processados na AWS. Destaco que este notebook foi adaptado de uma atividade de curso, resolvi compartilhar sem compilar no Aws, pois não possuo a contra free."
      ],
      "metadata": {
        "id": "Qz4wnH8ekaiL"
      }
    },
    {
      "cell_type": "code",
      "source": [
        "!pip install pandas\n",
        "!pip install numpy\n"
      ],
      "metadata": {
        "colab": {
          "base_uri": "https://localhost:8080/"
        },
        "id": "N3zrNHWbkvAi",
        "outputId": "2c78e30c-6b21-452b-84f0-45c38c3988a5"
      },
      "execution_count": 1,
      "outputs": [
        {
          "output_type": "stream",
          "name": "stdout",
          "text": [
            "Requirement already satisfied: pandas in /usr/local/lib/python3.10/dist-packages (2.1.4)\n",
            "Requirement already satisfied: numpy<2,>=1.22.4 in /usr/local/lib/python3.10/dist-packages (from pandas) (1.26.4)\n",
            "Requirement already satisfied: python-dateutil>=2.8.2 in /usr/local/lib/python3.10/dist-packages (from pandas) (2.8.2)\n",
            "Requirement already satisfied: pytz>=2020.1 in /usr/local/lib/python3.10/dist-packages (from pandas) (2024.1)\n",
            "Requirement already satisfied: tzdata>=2022.1 in /usr/local/lib/python3.10/dist-packages (from pandas) (2024.1)\n",
            "Requirement already satisfied: six>=1.5 in /usr/local/lib/python3.10/dist-packages (from python-dateutil>=2.8.2->pandas) (1.16.0)\n",
            "Requirement already satisfied: numpy in /usr/local/lib/python3.10/dist-packages (1.26.4)\n"
          ]
        }
      ]
    },
    {
      "cell_type": "code",
      "source": [
        "import pandas as pd\n",
        "import numpy as np\n"
      ],
      "metadata": {
        "id": "w5GyUgNGmLjz"
      },
      "execution_count": 2,
      "outputs": []
    },
    {
      "cell_type": "code",
      "source": [
        "from google.colab import drive\n",
        "drive.mount('/content/drive')"
      ],
      "metadata": {
        "colab": {
          "base_uri": "https://localhost:8080/"
        },
        "id": "fxIUpqcLmO4Z",
        "outputId": "3a957433-d90b-44e0-8937-bd967a962c64"
      },
      "execution_count": 3,
      "outputs": [
        {
          "output_type": "stream",
          "name": "stdout",
          "text": [
            "Mounted at /content/drive\n"
          ]
        }
      ]
    },
    {
      "cell_type": "code",
      "source": [
        "# Importanto data frame - Colab\n",
        "base_census = pd.read_csv('/content/drive/MyDrive/Github/Aws-classificacao-Xboost/census.csv')\n",
        "#base_census.head(5)"
      ],
      "metadata": {
        "id": "nT69QQacmh5U"
      },
      "execution_count": 48,
      "outputs": []
    },
    {
      "cell_type": "code",
      "execution_count": 49,
      "metadata": {
        "colab": {
          "base_uri": "https://localhost:8080/"
        },
        "id": "l9aTI-E9i2Th",
        "outputId": "2598eb6d-c04f-42ec-cfe8-7b26cca966c2"
      },
      "outputs": [
        {
          "output_type": "execute_result",
          "data": {
            "text/plain": [
              "['income',\n",
              " 'age',\n",
              " 'workclass',\n",
              " 'final-weight',\n",
              " 'education',\n",
              " 'education-num',\n",
              " 'marital-status',\n",
              " 'occupation',\n",
              " 'relationship',\n",
              " 'race',\n",
              " 'sex',\n",
              " 'capital-gain',\n",
              " 'capital-loos',\n",
              " 'hour-per-week',\n",
              " 'inative-country']"
            ]
          },
          "metadata": {},
          "execution_count": 49
        }
      ],
      "source": [
        "#base_census = pd.read_csv('census.csv') # forma simples de carregar no AWS\n",
        "# migrando a variável y para a primeira coluna - necessário no Sagemaker Aws\n",
        "colunas = []\n",
        "colunas.append('income')                        # incluíndo primeiro name y\n",
        "for i in range(len(base_census.columns[:-1])):  # removendo a última coluna y - icome\n",
        "     colunas.append(base_census.columns[i])\n",
        "#base_census = base_census[colunas]\n",
        "#base_census\n",
        "colunas"
      ]
    },
    {
      "cell_type": "code",
      "source": [
        "#base_census = pd.read_csv('census.csv') # forma simples de carregar no AWS\n",
        "# migrando a variável y para a primeira coluna - necessário no Sagemaker Aws\n",
        "colunas = []\n",
        "colunas.append('income')                        # incluíndo primeiro name y\n",
        "for i in range(len(base_census.columns[:-1])):  # removendo a última coluna y - icome\n",
        "     colunas.append(base_census.columns[i])\n",
        "base_census = base_census[colunas]\n",
        "base_census.head(5)\n"
      ],
      "metadata": {
        "colab": {
          "base_uri": "https://localhost:8080/",
          "height": 400
        },
        "id": "fkJPKD20q5Rs",
        "outputId": "14369e43-9427-49f9-bd57-ceba4c2a9299"
      },
      "execution_count": 50,
      "outputs": [
        {
          "output_type": "execute_result",
          "data": {
            "text/plain": [
              "   income  age          workclass  final-weight   education  education-num  \\\n",
              "0   <=50K   39          State-gov         77516   Bachelors             13   \n",
              "1   <=50K   50   Self-emp-not-inc         83311   Bachelors             13   \n",
              "2   <=50K   38            Private        215646     HS-grad              9   \n",
              "3   <=50K   53            Private        234721        11th              7   \n",
              "4   <=50K   28            Private        338409   Bachelors             13   \n",
              "\n",
              "        marital-status          occupation    relationship    race      sex  \\\n",
              "0        Never-married        Adm-clerical   Not-in-family   White     Male   \n",
              "1   Married-civ-spouse     Exec-managerial         Husband   White     Male   \n",
              "2             Divorced   Handlers-cleaners   Not-in-family   White     Male   \n",
              "3   Married-civ-spouse   Handlers-cleaners         Husband   Black     Male   \n",
              "4   Married-civ-spouse      Prof-specialty            Wife   Black   Female   \n",
              "\n",
              "   capital-gain  capital-loos  hour-per-week inative-country  \n",
              "0          2174             0             40   United-States  \n",
              "1             0             0             13   United-States  \n",
              "2             0             0             40   United-States  \n",
              "3             0             0             40   United-States  \n",
              "4             0             0             40            Cuba  "
            ],
            "text/html": [
              "\n",
              "  <div id=\"df-e44bea1e-7904-4255-8916-4e489f875212\" class=\"colab-df-container\">\n",
              "    <div>\n",
              "<style scoped>\n",
              "    .dataframe tbody tr th:only-of-type {\n",
              "        vertical-align: middle;\n",
              "    }\n",
              "\n",
              "    .dataframe tbody tr th {\n",
              "        vertical-align: top;\n",
              "    }\n",
              "\n",
              "    .dataframe thead th {\n",
              "        text-align: right;\n",
              "    }\n",
              "</style>\n",
              "<table border=\"1\" class=\"dataframe\">\n",
              "  <thead>\n",
              "    <tr style=\"text-align: right;\">\n",
              "      <th></th>\n",
              "      <th>income</th>\n",
              "      <th>age</th>\n",
              "      <th>workclass</th>\n",
              "      <th>final-weight</th>\n",
              "      <th>education</th>\n",
              "      <th>education-num</th>\n",
              "      <th>marital-status</th>\n",
              "      <th>occupation</th>\n",
              "      <th>relationship</th>\n",
              "      <th>race</th>\n",
              "      <th>sex</th>\n",
              "      <th>capital-gain</th>\n",
              "      <th>capital-loos</th>\n",
              "      <th>hour-per-week</th>\n",
              "      <th>inative-country</th>\n",
              "    </tr>\n",
              "  </thead>\n",
              "  <tbody>\n",
              "    <tr>\n",
              "      <th>0</th>\n",
              "      <td>&lt;=50K</td>\n",
              "      <td>39</td>\n",
              "      <td>State-gov</td>\n",
              "      <td>77516</td>\n",
              "      <td>Bachelors</td>\n",
              "      <td>13</td>\n",
              "      <td>Never-married</td>\n",
              "      <td>Adm-clerical</td>\n",
              "      <td>Not-in-family</td>\n",
              "      <td>White</td>\n",
              "      <td>Male</td>\n",
              "      <td>2174</td>\n",
              "      <td>0</td>\n",
              "      <td>40</td>\n",
              "      <td>United-States</td>\n",
              "    </tr>\n",
              "    <tr>\n",
              "      <th>1</th>\n",
              "      <td>&lt;=50K</td>\n",
              "      <td>50</td>\n",
              "      <td>Self-emp-not-inc</td>\n",
              "      <td>83311</td>\n",
              "      <td>Bachelors</td>\n",
              "      <td>13</td>\n",
              "      <td>Married-civ-spouse</td>\n",
              "      <td>Exec-managerial</td>\n",
              "      <td>Husband</td>\n",
              "      <td>White</td>\n",
              "      <td>Male</td>\n",
              "      <td>0</td>\n",
              "      <td>0</td>\n",
              "      <td>13</td>\n",
              "      <td>United-States</td>\n",
              "    </tr>\n",
              "    <tr>\n",
              "      <th>2</th>\n",
              "      <td>&lt;=50K</td>\n",
              "      <td>38</td>\n",
              "      <td>Private</td>\n",
              "      <td>215646</td>\n",
              "      <td>HS-grad</td>\n",
              "      <td>9</td>\n",
              "      <td>Divorced</td>\n",
              "      <td>Handlers-cleaners</td>\n",
              "      <td>Not-in-family</td>\n",
              "      <td>White</td>\n",
              "      <td>Male</td>\n",
              "      <td>0</td>\n",
              "      <td>0</td>\n",
              "      <td>40</td>\n",
              "      <td>United-States</td>\n",
              "    </tr>\n",
              "    <tr>\n",
              "      <th>3</th>\n",
              "      <td>&lt;=50K</td>\n",
              "      <td>53</td>\n",
              "      <td>Private</td>\n",
              "      <td>234721</td>\n",
              "      <td>11th</td>\n",
              "      <td>7</td>\n",
              "      <td>Married-civ-spouse</td>\n",
              "      <td>Handlers-cleaners</td>\n",
              "      <td>Husband</td>\n",
              "      <td>Black</td>\n",
              "      <td>Male</td>\n",
              "      <td>0</td>\n",
              "      <td>0</td>\n",
              "      <td>40</td>\n",
              "      <td>United-States</td>\n",
              "    </tr>\n",
              "    <tr>\n",
              "      <th>4</th>\n",
              "      <td>&lt;=50K</td>\n",
              "      <td>28</td>\n",
              "      <td>Private</td>\n",
              "      <td>338409</td>\n",
              "      <td>Bachelors</td>\n",
              "      <td>13</td>\n",
              "      <td>Married-civ-spouse</td>\n",
              "      <td>Prof-specialty</td>\n",
              "      <td>Wife</td>\n",
              "      <td>Black</td>\n",
              "      <td>Female</td>\n",
              "      <td>0</td>\n",
              "      <td>0</td>\n",
              "      <td>40</td>\n",
              "      <td>Cuba</td>\n",
              "    </tr>\n",
              "  </tbody>\n",
              "</table>\n",
              "</div>\n",
              "    <div class=\"colab-df-buttons\">\n",
              "\n",
              "  <div class=\"colab-df-container\">\n",
              "    <button class=\"colab-df-convert\" onclick=\"convertToInteractive('df-e44bea1e-7904-4255-8916-4e489f875212')\"\n",
              "            title=\"Convert this dataframe to an interactive table.\"\n",
              "            style=\"display:none;\">\n",
              "\n",
              "  <svg xmlns=\"http://www.w3.org/2000/svg\" height=\"24px\" viewBox=\"0 -960 960 960\">\n",
              "    <path d=\"M120-120v-720h720v720H120Zm60-500h600v-160H180v160Zm220 220h160v-160H400v160Zm0 220h160v-160H400v160ZM180-400h160v-160H180v160Zm440 0h160v-160H620v160ZM180-180h160v-160H180v160Zm440 0h160v-160H620v160Z\"/>\n",
              "  </svg>\n",
              "    </button>\n",
              "\n",
              "  <style>\n",
              "    .colab-df-container {\n",
              "      display:flex;\n",
              "      gap: 12px;\n",
              "    }\n",
              "\n",
              "    .colab-df-convert {\n",
              "      background-color: #E8F0FE;\n",
              "      border: none;\n",
              "      border-radius: 50%;\n",
              "      cursor: pointer;\n",
              "      display: none;\n",
              "      fill: #1967D2;\n",
              "      height: 32px;\n",
              "      padding: 0 0 0 0;\n",
              "      width: 32px;\n",
              "    }\n",
              "\n",
              "    .colab-df-convert:hover {\n",
              "      background-color: #E2EBFA;\n",
              "      box-shadow: 0px 1px 2px rgba(60, 64, 67, 0.3), 0px 1px 3px 1px rgba(60, 64, 67, 0.15);\n",
              "      fill: #174EA6;\n",
              "    }\n",
              "\n",
              "    .colab-df-buttons div {\n",
              "      margin-bottom: 4px;\n",
              "    }\n",
              "\n",
              "    [theme=dark] .colab-df-convert {\n",
              "      background-color: #3B4455;\n",
              "      fill: #D2E3FC;\n",
              "    }\n",
              "\n",
              "    [theme=dark] .colab-df-convert:hover {\n",
              "      background-color: #434B5C;\n",
              "      box-shadow: 0px 1px 3px 1px rgba(0, 0, 0, 0.15);\n",
              "      filter: drop-shadow(0px 1px 2px rgba(0, 0, 0, 0.3));\n",
              "      fill: #FFFFFF;\n",
              "    }\n",
              "  </style>\n",
              "\n",
              "    <script>\n",
              "      const buttonEl =\n",
              "        document.querySelector('#df-e44bea1e-7904-4255-8916-4e489f875212 button.colab-df-convert');\n",
              "      buttonEl.style.display =\n",
              "        google.colab.kernel.accessAllowed ? 'block' : 'none';\n",
              "\n",
              "      async function convertToInteractive(key) {\n",
              "        const element = document.querySelector('#df-e44bea1e-7904-4255-8916-4e489f875212');\n",
              "        const dataTable =\n",
              "          await google.colab.kernel.invokeFunction('convertToInteractive',\n",
              "                                                    [key], {});\n",
              "        if (!dataTable) return;\n",
              "\n",
              "        const docLinkHtml = 'Like what you see? Visit the ' +\n",
              "          '<a target=\"_blank\" href=https://colab.research.google.com/notebooks/data_table.ipynb>data table notebook</a>'\n",
              "          + ' to learn more about interactive tables.';\n",
              "        element.innerHTML = '';\n",
              "        dataTable['output_type'] = 'display_data';\n",
              "        await google.colab.output.renderOutput(dataTable, element);\n",
              "        const docLink = document.createElement('div');\n",
              "        docLink.innerHTML = docLinkHtml;\n",
              "        element.appendChild(docLink);\n",
              "      }\n",
              "    </script>\n",
              "  </div>\n",
              "\n",
              "\n",
              "<div id=\"df-131e49ee-3d03-446c-a2de-ac8c54c199cf\">\n",
              "  <button class=\"colab-df-quickchart\" onclick=\"quickchart('df-131e49ee-3d03-446c-a2de-ac8c54c199cf')\"\n",
              "            title=\"Suggest charts\"\n",
              "            style=\"display:none;\">\n",
              "\n",
              "<svg xmlns=\"http://www.w3.org/2000/svg\" height=\"24px\"viewBox=\"0 0 24 24\"\n",
              "     width=\"24px\">\n",
              "    <g>\n",
              "        <path d=\"M19 3H5c-1.1 0-2 .9-2 2v14c0 1.1.9 2 2 2h14c1.1 0 2-.9 2-2V5c0-1.1-.9-2-2-2zM9 17H7v-7h2v7zm4 0h-2V7h2v10zm4 0h-2v-4h2v4z\"/>\n",
              "    </g>\n",
              "</svg>\n",
              "  </button>\n",
              "\n",
              "<style>\n",
              "  .colab-df-quickchart {\n",
              "      --bg-color: #E8F0FE;\n",
              "      --fill-color: #1967D2;\n",
              "      --hover-bg-color: #E2EBFA;\n",
              "      --hover-fill-color: #174EA6;\n",
              "      --disabled-fill-color: #AAA;\n",
              "      --disabled-bg-color: #DDD;\n",
              "  }\n",
              "\n",
              "  [theme=dark] .colab-df-quickchart {\n",
              "      --bg-color: #3B4455;\n",
              "      --fill-color: #D2E3FC;\n",
              "      --hover-bg-color: #434B5C;\n",
              "      --hover-fill-color: #FFFFFF;\n",
              "      --disabled-bg-color: #3B4455;\n",
              "      --disabled-fill-color: #666;\n",
              "  }\n",
              "\n",
              "  .colab-df-quickchart {\n",
              "    background-color: var(--bg-color);\n",
              "    border: none;\n",
              "    border-radius: 50%;\n",
              "    cursor: pointer;\n",
              "    display: none;\n",
              "    fill: var(--fill-color);\n",
              "    height: 32px;\n",
              "    padding: 0;\n",
              "    width: 32px;\n",
              "  }\n",
              "\n",
              "  .colab-df-quickchart:hover {\n",
              "    background-color: var(--hover-bg-color);\n",
              "    box-shadow: 0 1px 2px rgba(60, 64, 67, 0.3), 0 1px 3px 1px rgba(60, 64, 67, 0.15);\n",
              "    fill: var(--button-hover-fill-color);\n",
              "  }\n",
              "\n",
              "  .colab-df-quickchart-complete:disabled,\n",
              "  .colab-df-quickchart-complete:disabled:hover {\n",
              "    background-color: var(--disabled-bg-color);\n",
              "    fill: var(--disabled-fill-color);\n",
              "    box-shadow: none;\n",
              "  }\n",
              "\n",
              "  .colab-df-spinner {\n",
              "    border: 2px solid var(--fill-color);\n",
              "    border-color: transparent;\n",
              "    border-bottom-color: var(--fill-color);\n",
              "    animation:\n",
              "      spin 1s steps(1) infinite;\n",
              "  }\n",
              "\n",
              "  @keyframes spin {\n",
              "    0% {\n",
              "      border-color: transparent;\n",
              "      border-bottom-color: var(--fill-color);\n",
              "      border-left-color: var(--fill-color);\n",
              "    }\n",
              "    20% {\n",
              "      border-color: transparent;\n",
              "      border-left-color: var(--fill-color);\n",
              "      border-top-color: var(--fill-color);\n",
              "    }\n",
              "    30% {\n",
              "      border-color: transparent;\n",
              "      border-left-color: var(--fill-color);\n",
              "      border-top-color: var(--fill-color);\n",
              "      border-right-color: var(--fill-color);\n",
              "    }\n",
              "    40% {\n",
              "      border-color: transparent;\n",
              "      border-right-color: var(--fill-color);\n",
              "      border-top-color: var(--fill-color);\n",
              "    }\n",
              "    60% {\n",
              "      border-color: transparent;\n",
              "      border-right-color: var(--fill-color);\n",
              "    }\n",
              "    80% {\n",
              "      border-color: transparent;\n",
              "      border-right-color: var(--fill-color);\n",
              "      border-bottom-color: var(--fill-color);\n",
              "    }\n",
              "    90% {\n",
              "      border-color: transparent;\n",
              "      border-bottom-color: var(--fill-color);\n",
              "    }\n",
              "  }\n",
              "</style>\n",
              "\n",
              "  <script>\n",
              "    async function quickchart(key) {\n",
              "      const quickchartButtonEl =\n",
              "        document.querySelector('#' + key + ' button');\n",
              "      quickchartButtonEl.disabled = true;  // To prevent multiple clicks.\n",
              "      quickchartButtonEl.classList.add('colab-df-spinner');\n",
              "      try {\n",
              "        const charts = await google.colab.kernel.invokeFunction(\n",
              "            'suggestCharts', [key], {});\n",
              "      } catch (error) {\n",
              "        console.error('Error during call to suggestCharts:', error);\n",
              "      }\n",
              "      quickchartButtonEl.classList.remove('colab-df-spinner');\n",
              "      quickchartButtonEl.classList.add('colab-df-quickchart-complete');\n",
              "    }\n",
              "    (() => {\n",
              "      let quickchartButtonEl =\n",
              "        document.querySelector('#df-131e49ee-3d03-446c-a2de-ac8c54c199cf button');\n",
              "      quickchartButtonEl.style.display =\n",
              "        google.colab.kernel.accessAllowed ? 'block' : 'none';\n",
              "    })();\n",
              "  </script>\n",
              "</div>\n",
              "\n",
              "    </div>\n",
              "  </div>\n"
            ],
            "application/vnd.google.colaboratory.intrinsic+json": {
              "type": "dataframe",
              "variable_name": "base_census",
              "summary": "{\n  \"name\": \"base_census\",\n  \"rows\": 32561,\n  \"fields\": [\n    {\n      \"column\": \"income\",\n      \"properties\": {\n        \"dtype\": \"category\",\n        \"num_unique_values\": 2,\n        \"samples\": [\n          \" >50K\",\n          \" <=50K\"\n        ],\n        \"semantic_type\": \"\",\n        \"description\": \"\"\n      }\n    },\n    {\n      \"column\": \"age\",\n      \"properties\": {\n        \"dtype\": \"number\",\n        \"std\": 13,\n        \"min\": 17,\n        \"max\": 90,\n        \"num_unique_values\": 73,\n        \"samples\": [\n          28,\n          73\n        ],\n        \"semantic_type\": \"\",\n        \"description\": \"\"\n      }\n    },\n    {\n      \"column\": \"workclass\",\n      \"properties\": {\n        \"dtype\": \"category\",\n        \"num_unique_values\": 9,\n        \"samples\": [\n          \" Without-pay\",\n          \" Self-emp-not-inc\"\n        ],\n        \"semantic_type\": \"\",\n        \"description\": \"\"\n      }\n    },\n    {\n      \"column\": \"final-weight\",\n      \"properties\": {\n        \"dtype\": \"number\",\n        \"std\": 105549,\n        \"min\": 12285,\n        \"max\": 1484705,\n        \"num_unique_values\": 21648,\n        \"samples\": [\n          128485,\n          469907\n        ],\n        \"semantic_type\": \"\",\n        \"description\": \"\"\n      }\n    },\n    {\n      \"column\": \"education\",\n      \"properties\": {\n        \"dtype\": \"category\",\n        \"num_unique_values\": 16,\n        \"samples\": [\n          \" Bachelors\",\n          \" HS-grad\"\n        ],\n        \"semantic_type\": \"\",\n        \"description\": \"\"\n      }\n    },\n    {\n      \"column\": \"education-num\",\n      \"properties\": {\n        \"dtype\": \"number\",\n        \"std\": 2,\n        \"min\": 1,\n        \"max\": 16,\n        \"num_unique_values\": 16,\n        \"samples\": [\n          13,\n          9\n        ],\n        \"semantic_type\": \"\",\n        \"description\": \"\"\n      }\n    },\n    {\n      \"column\": \"marital-status\",\n      \"properties\": {\n        \"dtype\": \"category\",\n        \"num_unique_values\": 7,\n        \"samples\": [\n          \" Never-married\",\n          \" Married-civ-spouse\"\n        ],\n        \"semantic_type\": \"\",\n        \"description\": \"\"\n      }\n    },\n    {\n      \"column\": \"occupation\",\n      \"properties\": {\n        \"dtype\": \"category\",\n        \"num_unique_values\": 15,\n        \"samples\": [\n          \" Machine-op-inspct\",\n          \" ?\"\n        ],\n        \"semantic_type\": \"\",\n        \"description\": \"\"\n      }\n    },\n    {\n      \"column\": \"relationship\",\n      \"properties\": {\n        \"dtype\": \"category\",\n        \"num_unique_values\": 6,\n        \"samples\": [\n          \" Not-in-family\",\n          \" Husband\"\n        ],\n        \"semantic_type\": \"\",\n        \"description\": \"\"\n      }\n    },\n    {\n      \"column\": \"race\",\n      \"properties\": {\n        \"dtype\": \"category\",\n        \"num_unique_values\": 5,\n        \"samples\": [\n          \" Black\",\n          \" Other\"\n        ],\n        \"semantic_type\": \"\",\n        \"description\": \"\"\n      }\n    },\n    {\n      \"column\": \"sex\",\n      \"properties\": {\n        \"dtype\": \"category\",\n        \"num_unique_values\": 2,\n        \"samples\": [\n          \" Female\",\n          \" Male\"\n        ],\n        \"semantic_type\": \"\",\n        \"description\": \"\"\n      }\n    },\n    {\n      \"column\": \"capital-gain\",\n      \"properties\": {\n        \"dtype\": \"number\",\n        \"std\": 7385,\n        \"min\": 0,\n        \"max\": 99999,\n        \"num_unique_values\": 119,\n        \"samples\": [\n          3781,\n          15831\n        ],\n        \"semantic_type\": \"\",\n        \"description\": \"\"\n      }\n    },\n    {\n      \"column\": \"capital-loos\",\n      \"properties\": {\n        \"dtype\": \"number\",\n        \"std\": 402,\n        \"min\": 0,\n        \"max\": 4356,\n        \"num_unique_values\": 92,\n        \"samples\": [\n          419,\n          2051\n        ],\n        \"semantic_type\": \"\",\n        \"description\": \"\"\n      }\n    },\n    {\n      \"column\": \"hour-per-week\",\n      \"properties\": {\n        \"dtype\": \"number\",\n        \"std\": 12,\n        \"min\": 1,\n        \"max\": 99,\n        \"num_unique_values\": 94,\n        \"samples\": [\n          6,\n          22\n        ],\n        \"semantic_type\": \"\",\n        \"description\": \"\"\n      }\n    },\n    {\n      \"column\": \"inative-country\",\n      \"properties\": {\n        \"dtype\": \"category\",\n        \"num_unique_values\": 42,\n        \"samples\": [\n          \" El-Salvador\",\n          \" Philippines\"\n        ],\n        \"semantic_type\": \"\",\n        \"description\": \"\"\n      }\n    }\n  ]\n}"
            }
          },
          "metadata": {},
          "execution_count": 50
        }
      ]
    },
    {
      "cell_type": "code",
      "execution_count": 51,
      "metadata": {
        "id": "zCWYfHevi2Tl"
      },
      "outputs": [],
      "source": [
        "def functiondymmy(text):\n",
        "    if text == ' >50K':\n",
        "        return 1.0\n",
        "    else:\n",
        "        return 0.0"
      ]
    },
    {
      "cell_type": "code",
      "execution_count": 52,
      "metadata": {
        "id": "JSDSWbjgi2Tm"
      },
      "outputs": [],
      "source": [
        "base_census['income'] = base_census['income'].apply(functiondymmy)"
      ]
    },
    {
      "cell_type": "code",
      "execution_count": 53,
      "metadata": {
        "id": "N0_Wz1HTi2Tm",
        "outputId": "b5c60907-5c86-4b1b-8e1e-3f658dcf378e",
        "colab": {
          "base_uri": "https://localhost:8080/",
          "height": 400
        }
      },
      "outputs": [
        {
          "output_type": "execute_result",
          "data": {
            "text/plain": [
              "   income  age          workclass  final-weight   education  education-num  \\\n",
              "0     0.0   39          State-gov         77516   Bachelors             13   \n",
              "1     0.0   50   Self-emp-not-inc         83311   Bachelors             13   \n",
              "2     0.0   38            Private        215646     HS-grad              9   \n",
              "3     0.0   53            Private        234721        11th              7   \n",
              "4     0.0   28            Private        338409   Bachelors             13   \n",
              "\n",
              "        marital-status          occupation    relationship    race      sex  \\\n",
              "0        Never-married        Adm-clerical   Not-in-family   White     Male   \n",
              "1   Married-civ-spouse     Exec-managerial         Husband   White     Male   \n",
              "2             Divorced   Handlers-cleaners   Not-in-family   White     Male   \n",
              "3   Married-civ-spouse   Handlers-cleaners         Husband   Black     Male   \n",
              "4   Married-civ-spouse      Prof-specialty            Wife   Black   Female   \n",
              "\n",
              "   capital-gain  capital-loos  hour-per-week inative-country  \n",
              "0          2174             0             40   United-States  \n",
              "1             0             0             13   United-States  \n",
              "2             0             0             40   United-States  \n",
              "3             0             0             40   United-States  \n",
              "4             0             0             40            Cuba  "
            ],
            "text/html": [
              "\n",
              "  <div id=\"df-ee27e1af-612e-4fb1-b157-a1c025eaf8f7\" class=\"colab-df-container\">\n",
              "    <div>\n",
              "<style scoped>\n",
              "    .dataframe tbody tr th:only-of-type {\n",
              "        vertical-align: middle;\n",
              "    }\n",
              "\n",
              "    .dataframe tbody tr th {\n",
              "        vertical-align: top;\n",
              "    }\n",
              "\n",
              "    .dataframe thead th {\n",
              "        text-align: right;\n",
              "    }\n",
              "</style>\n",
              "<table border=\"1\" class=\"dataframe\">\n",
              "  <thead>\n",
              "    <tr style=\"text-align: right;\">\n",
              "      <th></th>\n",
              "      <th>income</th>\n",
              "      <th>age</th>\n",
              "      <th>workclass</th>\n",
              "      <th>final-weight</th>\n",
              "      <th>education</th>\n",
              "      <th>education-num</th>\n",
              "      <th>marital-status</th>\n",
              "      <th>occupation</th>\n",
              "      <th>relationship</th>\n",
              "      <th>race</th>\n",
              "      <th>sex</th>\n",
              "      <th>capital-gain</th>\n",
              "      <th>capital-loos</th>\n",
              "      <th>hour-per-week</th>\n",
              "      <th>inative-country</th>\n",
              "    </tr>\n",
              "  </thead>\n",
              "  <tbody>\n",
              "    <tr>\n",
              "      <th>0</th>\n",
              "      <td>0.0</td>\n",
              "      <td>39</td>\n",
              "      <td>State-gov</td>\n",
              "      <td>77516</td>\n",
              "      <td>Bachelors</td>\n",
              "      <td>13</td>\n",
              "      <td>Never-married</td>\n",
              "      <td>Adm-clerical</td>\n",
              "      <td>Not-in-family</td>\n",
              "      <td>White</td>\n",
              "      <td>Male</td>\n",
              "      <td>2174</td>\n",
              "      <td>0</td>\n",
              "      <td>40</td>\n",
              "      <td>United-States</td>\n",
              "    </tr>\n",
              "    <tr>\n",
              "      <th>1</th>\n",
              "      <td>0.0</td>\n",
              "      <td>50</td>\n",
              "      <td>Self-emp-not-inc</td>\n",
              "      <td>83311</td>\n",
              "      <td>Bachelors</td>\n",
              "      <td>13</td>\n",
              "      <td>Married-civ-spouse</td>\n",
              "      <td>Exec-managerial</td>\n",
              "      <td>Husband</td>\n",
              "      <td>White</td>\n",
              "      <td>Male</td>\n",
              "      <td>0</td>\n",
              "      <td>0</td>\n",
              "      <td>13</td>\n",
              "      <td>United-States</td>\n",
              "    </tr>\n",
              "    <tr>\n",
              "      <th>2</th>\n",
              "      <td>0.0</td>\n",
              "      <td>38</td>\n",
              "      <td>Private</td>\n",
              "      <td>215646</td>\n",
              "      <td>HS-grad</td>\n",
              "      <td>9</td>\n",
              "      <td>Divorced</td>\n",
              "      <td>Handlers-cleaners</td>\n",
              "      <td>Not-in-family</td>\n",
              "      <td>White</td>\n",
              "      <td>Male</td>\n",
              "      <td>0</td>\n",
              "      <td>0</td>\n",
              "      <td>40</td>\n",
              "      <td>United-States</td>\n",
              "    </tr>\n",
              "    <tr>\n",
              "      <th>3</th>\n",
              "      <td>0.0</td>\n",
              "      <td>53</td>\n",
              "      <td>Private</td>\n",
              "      <td>234721</td>\n",
              "      <td>11th</td>\n",
              "      <td>7</td>\n",
              "      <td>Married-civ-spouse</td>\n",
              "      <td>Handlers-cleaners</td>\n",
              "      <td>Husband</td>\n",
              "      <td>Black</td>\n",
              "      <td>Male</td>\n",
              "      <td>0</td>\n",
              "      <td>0</td>\n",
              "      <td>40</td>\n",
              "      <td>United-States</td>\n",
              "    </tr>\n",
              "    <tr>\n",
              "      <th>4</th>\n",
              "      <td>0.0</td>\n",
              "      <td>28</td>\n",
              "      <td>Private</td>\n",
              "      <td>338409</td>\n",
              "      <td>Bachelors</td>\n",
              "      <td>13</td>\n",
              "      <td>Married-civ-spouse</td>\n",
              "      <td>Prof-specialty</td>\n",
              "      <td>Wife</td>\n",
              "      <td>Black</td>\n",
              "      <td>Female</td>\n",
              "      <td>0</td>\n",
              "      <td>0</td>\n",
              "      <td>40</td>\n",
              "      <td>Cuba</td>\n",
              "    </tr>\n",
              "  </tbody>\n",
              "</table>\n",
              "</div>\n",
              "    <div class=\"colab-df-buttons\">\n",
              "\n",
              "  <div class=\"colab-df-container\">\n",
              "    <button class=\"colab-df-convert\" onclick=\"convertToInteractive('df-ee27e1af-612e-4fb1-b157-a1c025eaf8f7')\"\n",
              "            title=\"Convert this dataframe to an interactive table.\"\n",
              "            style=\"display:none;\">\n",
              "\n",
              "  <svg xmlns=\"http://www.w3.org/2000/svg\" height=\"24px\" viewBox=\"0 -960 960 960\">\n",
              "    <path d=\"M120-120v-720h720v720H120Zm60-500h600v-160H180v160Zm220 220h160v-160H400v160Zm0 220h160v-160H400v160ZM180-400h160v-160H180v160Zm440 0h160v-160H620v160ZM180-180h160v-160H180v160Zm440 0h160v-160H620v160Z\"/>\n",
              "  </svg>\n",
              "    </button>\n",
              "\n",
              "  <style>\n",
              "    .colab-df-container {\n",
              "      display:flex;\n",
              "      gap: 12px;\n",
              "    }\n",
              "\n",
              "    .colab-df-convert {\n",
              "      background-color: #E8F0FE;\n",
              "      border: none;\n",
              "      border-radius: 50%;\n",
              "      cursor: pointer;\n",
              "      display: none;\n",
              "      fill: #1967D2;\n",
              "      height: 32px;\n",
              "      padding: 0 0 0 0;\n",
              "      width: 32px;\n",
              "    }\n",
              "\n",
              "    .colab-df-convert:hover {\n",
              "      background-color: #E2EBFA;\n",
              "      box-shadow: 0px 1px 2px rgba(60, 64, 67, 0.3), 0px 1px 3px 1px rgba(60, 64, 67, 0.15);\n",
              "      fill: #174EA6;\n",
              "    }\n",
              "\n",
              "    .colab-df-buttons div {\n",
              "      margin-bottom: 4px;\n",
              "    }\n",
              "\n",
              "    [theme=dark] .colab-df-convert {\n",
              "      background-color: #3B4455;\n",
              "      fill: #D2E3FC;\n",
              "    }\n",
              "\n",
              "    [theme=dark] .colab-df-convert:hover {\n",
              "      background-color: #434B5C;\n",
              "      box-shadow: 0px 1px 3px 1px rgba(0, 0, 0, 0.15);\n",
              "      filter: drop-shadow(0px 1px 2px rgba(0, 0, 0, 0.3));\n",
              "      fill: #FFFFFF;\n",
              "    }\n",
              "  </style>\n",
              "\n",
              "    <script>\n",
              "      const buttonEl =\n",
              "        document.querySelector('#df-ee27e1af-612e-4fb1-b157-a1c025eaf8f7 button.colab-df-convert');\n",
              "      buttonEl.style.display =\n",
              "        google.colab.kernel.accessAllowed ? 'block' : 'none';\n",
              "\n",
              "      async function convertToInteractive(key) {\n",
              "        const element = document.querySelector('#df-ee27e1af-612e-4fb1-b157-a1c025eaf8f7');\n",
              "        const dataTable =\n",
              "          await google.colab.kernel.invokeFunction('convertToInteractive',\n",
              "                                                    [key], {});\n",
              "        if (!dataTable) return;\n",
              "\n",
              "        const docLinkHtml = 'Like what you see? Visit the ' +\n",
              "          '<a target=\"_blank\" href=https://colab.research.google.com/notebooks/data_table.ipynb>data table notebook</a>'\n",
              "          + ' to learn more about interactive tables.';\n",
              "        element.innerHTML = '';\n",
              "        dataTable['output_type'] = 'display_data';\n",
              "        await google.colab.output.renderOutput(dataTable, element);\n",
              "        const docLink = document.createElement('div');\n",
              "        docLink.innerHTML = docLinkHtml;\n",
              "        element.appendChild(docLink);\n",
              "      }\n",
              "    </script>\n",
              "  </div>\n",
              "\n",
              "\n",
              "<div id=\"df-5d3fb2d3-5096-4886-bb95-17a38324424a\">\n",
              "  <button class=\"colab-df-quickchart\" onclick=\"quickchart('df-5d3fb2d3-5096-4886-bb95-17a38324424a')\"\n",
              "            title=\"Suggest charts\"\n",
              "            style=\"display:none;\">\n",
              "\n",
              "<svg xmlns=\"http://www.w3.org/2000/svg\" height=\"24px\"viewBox=\"0 0 24 24\"\n",
              "     width=\"24px\">\n",
              "    <g>\n",
              "        <path d=\"M19 3H5c-1.1 0-2 .9-2 2v14c0 1.1.9 2 2 2h14c1.1 0 2-.9 2-2V5c0-1.1-.9-2-2-2zM9 17H7v-7h2v7zm4 0h-2V7h2v10zm4 0h-2v-4h2v4z\"/>\n",
              "    </g>\n",
              "</svg>\n",
              "  </button>\n",
              "\n",
              "<style>\n",
              "  .colab-df-quickchart {\n",
              "      --bg-color: #E8F0FE;\n",
              "      --fill-color: #1967D2;\n",
              "      --hover-bg-color: #E2EBFA;\n",
              "      --hover-fill-color: #174EA6;\n",
              "      --disabled-fill-color: #AAA;\n",
              "      --disabled-bg-color: #DDD;\n",
              "  }\n",
              "\n",
              "  [theme=dark] .colab-df-quickchart {\n",
              "      --bg-color: #3B4455;\n",
              "      --fill-color: #D2E3FC;\n",
              "      --hover-bg-color: #434B5C;\n",
              "      --hover-fill-color: #FFFFFF;\n",
              "      --disabled-bg-color: #3B4455;\n",
              "      --disabled-fill-color: #666;\n",
              "  }\n",
              "\n",
              "  .colab-df-quickchart {\n",
              "    background-color: var(--bg-color);\n",
              "    border: none;\n",
              "    border-radius: 50%;\n",
              "    cursor: pointer;\n",
              "    display: none;\n",
              "    fill: var(--fill-color);\n",
              "    height: 32px;\n",
              "    padding: 0;\n",
              "    width: 32px;\n",
              "  }\n",
              "\n",
              "  .colab-df-quickchart:hover {\n",
              "    background-color: var(--hover-bg-color);\n",
              "    box-shadow: 0 1px 2px rgba(60, 64, 67, 0.3), 0 1px 3px 1px rgba(60, 64, 67, 0.15);\n",
              "    fill: var(--button-hover-fill-color);\n",
              "  }\n",
              "\n",
              "  .colab-df-quickchart-complete:disabled,\n",
              "  .colab-df-quickchart-complete:disabled:hover {\n",
              "    background-color: var(--disabled-bg-color);\n",
              "    fill: var(--disabled-fill-color);\n",
              "    box-shadow: none;\n",
              "  }\n",
              "\n",
              "  .colab-df-spinner {\n",
              "    border: 2px solid var(--fill-color);\n",
              "    border-color: transparent;\n",
              "    border-bottom-color: var(--fill-color);\n",
              "    animation:\n",
              "      spin 1s steps(1) infinite;\n",
              "  }\n",
              "\n",
              "  @keyframes spin {\n",
              "    0% {\n",
              "      border-color: transparent;\n",
              "      border-bottom-color: var(--fill-color);\n",
              "      border-left-color: var(--fill-color);\n",
              "    }\n",
              "    20% {\n",
              "      border-color: transparent;\n",
              "      border-left-color: var(--fill-color);\n",
              "      border-top-color: var(--fill-color);\n",
              "    }\n",
              "    30% {\n",
              "      border-color: transparent;\n",
              "      border-left-color: var(--fill-color);\n",
              "      border-top-color: var(--fill-color);\n",
              "      border-right-color: var(--fill-color);\n",
              "    }\n",
              "    40% {\n",
              "      border-color: transparent;\n",
              "      border-right-color: var(--fill-color);\n",
              "      border-top-color: var(--fill-color);\n",
              "    }\n",
              "    60% {\n",
              "      border-color: transparent;\n",
              "      border-right-color: var(--fill-color);\n",
              "    }\n",
              "    80% {\n",
              "      border-color: transparent;\n",
              "      border-right-color: var(--fill-color);\n",
              "      border-bottom-color: var(--fill-color);\n",
              "    }\n",
              "    90% {\n",
              "      border-color: transparent;\n",
              "      border-bottom-color: var(--fill-color);\n",
              "    }\n",
              "  }\n",
              "</style>\n",
              "\n",
              "  <script>\n",
              "    async function quickchart(key) {\n",
              "      const quickchartButtonEl =\n",
              "        document.querySelector('#' + key + ' button');\n",
              "      quickchartButtonEl.disabled = true;  // To prevent multiple clicks.\n",
              "      quickchartButtonEl.classList.add('colab-df-spinner');\n",
              "      try {\n",
              "        const charts = await google.colab.kernel.invokeFunction(\n",
              "            'suggestCharts', [key], {});\n",
              "      } catch (error) {\n",
              "        console.error('Error during call to suggestCharts:', error);\n",
              "      }\n",
              "      quickchartButtonEl.classList.remove('colab-df-spinner');\n",
              "      quickchartButtonEl.classList.add('colab-df-quickchart-complete');\n",
              "    }\n",
              "    (() => {\n",
              "      let quickchartButtonEl =\n",
              "        document.querySelector('#df-5d3fb2d3-5096-4886-bb95-17a38324424a button');\n",
              "      quickchartButtonEl.style.display =\n",
              "        google.colab.kernel.accessAllowed ? 'block' : 'none';\n",
              "    })();\n",
              "  </script>\n",
              "</div>\n",
              "\n",
              "    </div>\n",
              "  </div>\n"
            ],
            "application/vnd.google.colaboratory.intrinsic+json": {
              "type": "dataframe",
              "variable_name": "base_census",
              "summary": "{\n  \"name\": \"base_census\",\n  \"rows\": 32561,\n  \"fields\": [\n    {\n      \"column\": \"income\",\n      \"properties\": {\n        \"dtype\": \"number\",\n        \"std\": 0.4275814885646921,\n        \"min\": 0.0,\n        \"max\": 1.0,\n        \"num_unique_values\": 2,\n        \"samples\": [\n          1.0,\n          0.0\n        ],\n        \"semantic_type\": \"\",\n        \"description\": \"\"\n      }\n    },\n    {\n      \"column\": \"age\",\n      \"properties\": {\n        \"dtype\": \"number\",\n        \"std\": 13,\n        \"min\": 17,\n        \"max\": 90,\n        \"num_unique_values\": 73,\n        \"samples\": [\n          28,\n          73\n        ],\n        \"semantic_type\": \"\",\n        \"description\": \"\"\n      }\n    },\n    {\n      \"column\": \"workclass\",\n      \"properties\": {\n        \"dtype\": \"category\",\n        \"num_unique_values\": 9,\n        \"samples\": [\n          \" Without-pay\",\n          \" Self-emp-not-inc\"\n        ],\n        \"semantic_type\": \"\",\n        \"description\": \"\"\n      }\n    },\n    {\n      \"column\": \"final-weight\",\n      \"properties\": {\n        \"dtype\": \"number\",\n        \"std\": 105549,\n        \"min\": 12285,\n        \"max\": 1484705,\n        \"num_unique_values\": 21648,\n        \"samples\": [\n          128485,\n          469907\n        ],\n        \"semantic_type\": \"\",\n        \"description\": \"\"\n      }\n    },\n    {\n      \"column\": \"education\",\n      \"properties\": {\n        \"dtype\": \"category\",\n        \"num_unique_values\": 16,\n        \"samples\": [\n          \" Bachelors\",\n          \" HS-grad\"\n        ],\n        \"semantic_type\": \"\",\n        \"description\": \"\"\n      }\n    },\n    {\n      \"column\": \"education-num\",\n      \"properties\": {\n        \"dtype\": \"number\",\n        \"std\": 2,\n        \"min\": 1,\n        \"max\": 16,\n        \"num_unique_values\": 16,\n        \"samples\": [\n          13,\n          9\n        ],\n        \"semantic_type\": \"\",\n        \"description\": \"\"\n      }\n    },\n    {\n      \"column\": \"marital-status\",\n      \"properties\": {\n        \"dtype\": \"category\",\n        \"num_unique_values\": 7,\n        \"samples\": [\n          \" Never-married\",\n          \" Married-civ-spouse\"\n        ],\n        \"semantic_type\": \"\",\n        \"description\": \"\"\n      }\n    },\n    {\n      \"column\": \"occupation\",\n      \"properties\": {\n        \"dtype\": \"category\",\n        \"num_unique_values\": 15,\n        \"samples\": [\n          \" Machine-op-inspct\",\n          \" ?\"\n        ],\n        \"semantic_type\": \"\",\n        \"description\": \"\"\n      }\n    },\n    {\n      \"column\": \"relationship\",\n      \"properties\": {\n        \"dtype\": \"category\",\n        \"num_unique_values\": 6,\n        \"samples\": [\n          \" Not-in-family\",\n          \" Husband\"\n        ],\n        \"semantic_type\": \"\",\n        \"description\": \"\"\n      }\n    },\n    {\n      \"column\": \"race\",\n      \"properties\": {\n        \"dtype\": \"category\",\n        \"num_unique_values\": 5,\n        \"samples\": [\n          \" Black\",\n          \" Other\"\n        ],\n        \"semantic_type\": \"\",\n        \"description\": \"\"\n      }\n    },\n    {\n      \"column\": \"sex\",\n      \"properties\": {\n        \"dtype\": \"category\",\n        \"num_unique_values\": 2,\n        \"samples\": [\n          \" Female\",\n          \" Male\"\n        ],\n        \"semantic_type\": \"\",\n        \"description\": \"\"\n      }\n    },\n    {\n      \"column\": \"capital-gain\",\n      \"properties\": {\n        \"dtype\": \"number\",\n        \"std\": 7385,\n        \"min\": 0,\n        \"max\": 99999,\n        \"num_unique_values\": 119,\n        \"samples\": [\n          3781,\n          15831\n        ],\n        \"semantic_type\": \"\",\n        \"description\": \"\"\n      }\n    },\n    {\n      \"column\": \"capital-loos\",\n      \"properties\": {\n        \"dtype\": \"number\",\n        \"std\": 402,\n        \"min\": 0,\n        \"max\": 4356,\n        \"num_unique_values\": 92,\n        \"samples\": [\n          419,\n          2051\n        ],\n        \"semantic_type\": \"\",\n        \"description\": \"\"\n      }\n    },\n    {\n      \"column\": \"hour-per-week\",\n      \"properties\": {\n        \"dtype\": \"number\",\n        \"std\": 12,\n        \"min\": 1,\n        \"max\": 99,\n        \"num_unique_values\": 94,\n        \"samples\": [\n          6,\n          22\n        ],\n        \"semantic_type\": \"\",\n        \"description\": \"\"\n      }\n    },\n    {\n      \"column\": \"inative-country\",\n      \"properties\": {\n        \"dtype\": \"category\",\n        \"num_unique_values\": 42,\n        \"samples\": [\n          \" El-Salvador\",\n          \" Philippines\"\n        ],\n        \"semantic_type\": \"\",\n        \"description\": \"\"\n      }\n    }\n  ]\n}"
            }
          },
          "metadata": {},
          "execution_count": 53
        }
      ],
      "source": [
        "base_census.head(5)"
      ]
    },
    {
      "cell_type": "code",
      "execution_count": 54,
      "metadata": {
        "id": "--YlV7ZOi2Tn",
        "colab": {
          "base_uri": "https://localhost:8080/",
          "height": 307
        },
        "outputId": "8bfa5bd1-877d-4e43-eb1f-1d317a2a16a9"
      },
      "outputs": [
        {
          "output_type": "execute_result",
          "data": {
            "text/plain": [
              "   income  age  final-weight  education-num  capital-gain  capital-loos  \\\n",
              "0     0.0   39         77516             13          2174             0   \n",
              "1     0.0   50         83311             13             0             0   \n",
              "2     0.0   38        215646              9             0             0   \n",
              "3     0.0   53        234721              7             0             0   \n",
              "4     0.0   28        338409             13             0             0   \n",
              "\n",
              "   hour-per-week  workclass_ ?  workclass_ Federal-gov  workclass_ Local-gov  \\\n",
              "0             40             0                       0                     0   \n",
              "1             13             0                       0                     0   \n",
              "2             40             0                       0                     0   \n",
              "3             40             0                       0                     0   \n",
              "4             40             0                       0                     0   \n",
              "\n",
              "   ...  inative-country_ Portugal  inative-country_ Puerto-Rico  \\\n",
              "0  ...                          0                             0   \n",
              "1  ...                          0                             0   \n",
              "2  ...                          0                             0   \n",
              "3  ...                          0                             0   \n",
              "4  ...                          0                             0   \n",
              "\n",
              "   inative-country_ Scotland  inative-country_ South  inative-country_ Taiwan  \\\n",
              "0                          0                       0                        0   \n",
              "1                          0                       0                        0   \n",
              "2                          0                       0                        0   \n",
              "3                          0                       0                        0   \n",
              "4                          0                       0                        0   \n",
              "\n",
              "   inative-country_ Thailand  inative-country_ Trinadad&Tobago  \\\n",
              "0                          0                                 0   \n",
              "1                          0                                 0   \n",
              "2                          0                                 0   \n",
              "3                          0                                 0   \n",
              "4                          0                                 0   \n",
              "\n",
              "   inative-country_ United-States  inative-country_ Vietnam  \\\n",
              "0                               1                         0   \n",
              "1                               1                         0   \n",
              "2                               1                         0   \n",
              "3                               1                         0   \n",
              "4                               0                         0   \n",
              "\n",
              "   inative-country_ Yugoslavia  \n",
              "0                            0  \n",
              "1                            0  \n",
              "2                            0  \n",
              "3                            0  \n",
              "4                            0  \n",
              "\n",
              "[5 rows x 109 columns]"
            ],
            "text/html": [
              "\n",
              "  <div id=\"df-bea888a3-4e2e-416a-86d7-2efee8b135b7\" class=\"colab-df-container\">\n",
              "    <div>\n",
              "<style scoped>\n",
              "    .dataframe tbody tr th:only-of-type {\n",
              "        vertical-align: middle;\n",
              "    }\n",
              "\n",
              "    .dataframe tbody tr th {\n",
              "        vertical-align: top;\n",
              "    }\n",
              "\n",
              "    .dataframe thead th {\n",
              "        text-align: right;\n",
              "    }\n",
              "</style>\n",
              "<table border=\"1\" class=\"dataframe\">\n",
              "  <thead>\n",
              "    <tr style=\"text-align: right;\">\n",
              "      <th></th>\n",
              "      <th>income</th>\n",
              "      <th>age</th>\n",
              "      <th>final-weight</th>\n",
              "      <th>education-num</th>\n",
              "      <th>capital-gain</th>\n",
              "      <th>capital-loos</th>\n",
              "      <th>hour-per-week</th>\n",
              "      <th>workclass_ ?</th>\n",
              "      <th>workclass_ Federal-gov</th>\n",
              "      <th>workclass_ Local-gov</th>\n",
              "      <th>...</th>\n",
              "      <th>inative-country_ Portugal</th>\n",
              "      <th>inative-country_ Puerto-Rico</th>\n",
              "      <th>inative-country_ Scotland</th>\n",
              "      <th>inative-country_ South</th>\n",
              "      <th>inative-country_ Taiwan</th>\n",
              "      <th>inative-country_ Thailand</th>\n",
              "      <th>inative-country_ Trinadad&amp;Tobago</th>\n",
              "      <th>inative-country_ United-States</th>\n",
              "      <th>inative-country_ Vietnam</th>\n",
              "      <th>inative-country_ Yugoslavia</th>\n",
              "    </tr>\n",
              "  </thead>\n",
              "  <tbody>\n",
              "    <tr>\n",
              "      <th>0</th>\n",
              "      <td>0.0</td>\n",
              "      <td>39</td>\n",
              "      <td>77516</td>\n",
              "      <td>13</td>\n",
              "      <td>2174</td>\n",
              "      <td>0</td>\n",
              "      <td>40</td>\n",
              "      <td>0</td>\n",
              "      <td>0</td>\n",
              "      <td>0</td>\n",
              "      <td>...</td>\n",
              "      <td>0</td>\n",
              "      <td>0</td>\n",
              "      <td>0</td>\n",
              "      <td>0</td>\n",
              "      <td>0</td>\n",
              "      <td>0</td>\n",
              "      <td>0</td>\n",
              "      <td>1</td>\n",
              "      <td>0</td>\n",
              "      <td>0</td>\n",
              "    </tr>\n",
              "    <tr>\n",
              "      <th>1</th>\n",
              "      <td>0.0</td>\n",
              "      <td>50</td>\n",
              "      <td>83311</td>\n",
              "      <td>13</td>\n",
              "      <td>0</td>\n",
              "      <td>0</td>\n",
              "      <td>13</td>\n",
              "      <td>0</td>\n",
              "      <td>0</td>\n",
              "      <td>0</td>\n",
              "      <td>...</td>\n",
              "      <td>0</td>\n",
              "      <td>0</td>\n",
              "      <td>0</td>\n",
              "      <td>0</td>\n",
              "      <td>0</td>\n",
              "      <td>0</td>\n",
              "      <td>0</td>\n",
              "      <td>1</td>\n",
              "      <td>0</td>\n",
              "      <td>0</td>\n",
              "    </tr>\n",
              "    <tr>\n",
              "      <th>2</th>\n",
              "      <td>0.0</td>\n",
              "      <td>38</td>\n",
              "      <td>215646</td>\n",
              "      <td>9</td>\n",
              "      <td>0</td>\n",
              "      <td>0</td>\n",
              "      <td>40</td>\n",
              "      <td>0</td>\n",
              "      <td>0</td>\n",
              "      <td>0</td>\n",
              "      <td>...</td>\n",
              "      <td>0</td>\n",
              "      <td>0</td>\n",
              "      <td>0</td>\n",
              "      <td>0</td>\n",
              "      <td>0</td>\n",
              "      <td>0</td>\n",
              "      <td>0</td>\n",
              "      <td>1</td>\n",
              "      <td>0</td>\n",
              "      <td>0</td>\n",
              "    </tr>\n",
              "    <tr>\n",
              "      <th>3</th>\n",
              "      <td>0.0</td>\n",
              "      <td>53</td>\n",
              "      <td>234721</td>\n",
              "      <td>7</td>\n",
              "      <td>0</td>\n",
              "      <td>0</td>\n",
              "      <td>40</td>\n",
              "      <td>0</td>\n",
              "      <td>0</td>\n",
              "      <td>0</td>\n",
              "      <td>...</td>\n",
              "      <td>0</td>\n",
              "      <td>0</td>\n",
              "      <td>0</td>\n",
              "      <td>0</td>\n",
              "      <td>0</td>\n",
              "      <td>0</td>\n",
              "      <td>0</td>\n",
              "      <td>1</td>\n",
              "      <td>0</td>\n",
              "      <td>0</td>\n",
              "    </tr>\n",
              "    <tr>\n",
              "      <th>4</th>\n",
              "      <td>0.0</td>\n",
              "      <td>28</td>\n",
              "      <td>338409</td>\n",
              "      <td>13</td>\n",
              "      <td>0</td>\n",
              "      <td>0</td>\n",
              "      <td>40</td>\n",
              "      <td>0</td>\n",
              "      <td>0</td>\n",
              "      <td>0</td>\n",
              "      <td>...</td>\n",
              "      <td>0</td>\n",
              "      <td>0</td>\n",
              "      <td>0</td>\n",
              "      <td>0</td>\n",
              "      <td>0</td>\n",
              "      <td>0</td>\n",
              "      <td>0</td>\n",
              "      <td>0</td>\n",
              "      <td>0</td>\n",
              "      <td>0</td>\n",
              "    </tr>\n",
              "  </tbody>\n",
              "</table>\n",
              "<p>5 rows × 109 columns</p>\n",
              "</div>\n",
              "    <div class=\"colab-df-buttons\">\n",
              "\n",
              "  <div class=\"colab-df-container\">\n",
              "    <button class=\"colab-df-convert\" onclick=\"convertToInteractive('df-bea888a3-4e2e-416a-86d7-2efee8b135b7')\"\n",
              "            title=\"Convert this dataframe to an interactive table.\"\n",
              "            style=\"display:none;\">\n",
              "\n",
              "  <svg xmlns=\"http://www.w3.org/2000/svg\" height=\"24px\" viewBox=\"0 -960 960 960\">\n",
              "    <path d=\"M120-120v-720h720v720H120Zm60-500h600v-160H180v160Zm220 220h160v-160H400v160Zm0 220h160v-160H400v160ZM180-400h160v-160H180v160Zm440 0h160v-160H620v160ZM180-180h160v-160H180v160Zm440 0h160v-160H620v160Z\"/>\n",
              "  </svg>\n",
              "    </button>\n",
              "\n",
              "  <style>\n",
              "    .colab-df-container {\n",
              "      display:flex;\n",
              "      gap: 12px;\n",
              "    }\n",
              "\n",
              "    .colab-df-convert {\n",
              "      background-color: #E8F0FE;\n",
              "      border: none;\n",
              "      border-radius: 50%;\n",
              "      cursor: pointer;\n",
              "      display: none;\n",
              "      fill: #1967D2;\n",
              "      height: 32px;\n",
              "      padding: 0 0 0 0;\n",
              "      width: 32px;\n",
              "    }\n",
              "\n",
              "    .colab-df-convert:hover {\n",
              "      background-color: #E2EBFA;\n",
              "      box-shadow: 0px 1px 2px rgba(60, 64, 67, 0.3), 0px 1px 3px 1px rgba(60, 64, 67, 0.15);\n",
              "      fill: #174EA6;\n",
              "    }\n",
              "\n",
              "    .colab-df-buttons div {\n",
              "      margin-bottom: 4px;\n",
              "    }\n",
              "\n",
              "    [theme=dark] .colab-df-convert {\n",
              "      background-color: #3B4455;\n",
              "      fill: #D2E3FC;\n",
              "    }\n",
              "\n",
              "    [theme=dark] .colab-df-convert:hover {\n",
              "      background-color: #434B5C;\n",
              "      box-shadow: 0px 1px 3px 1px rgba(0, 0, 0, 0.15);\n",
              "      filter: drop-shadow(0px 1px 2px rgba(0, 0, 0, 0.3));\n",
              "      fill: #FFFFFF;\n",
              "    }\n",
              "  </style>\n",
              "\n",
              "    <script>\n",
              "      const buttonEl =\n",
              "        document.querySelector('#df-bea888a3-4e2e-416a-86d7-2efee8b135b7 button.colab-df-convert');\n",
              "      buttonEl.style.display =\n",
              "        google.colab.kernel.accessAllowed ? 'block' : 'none';\n",
              "\n",
              "      async function convertToInteractive(key) {\n",
              "        const element = document.querySelector('#df-bea888a3-4e2e-416a-86d7-2efee8b135b7');\n",
              "        const dataTable =\n",
              "          await google.colab.kernel.invokeFunction('convertToInteractive',\n",
              "                                                    [key], {});\n",
              "        if (!dataTable) return;\n",
              "\n",
              "        const docLinkHtml = 'Like what you see? Visit the ' +\n",
              "          '<a target=\"_blank\" href=https://colab.research.google.com/notebooks/data_table.ipynb>data table notebook</a>'\n",
              "          + ' to learn more about interactive tables.';\n",
              "        element.innerHTML = '';\n",
              "        dataTable['output_type'] = 'display_data';\n",
              "        await google.colab.output.renderOutput(dataTable, element);\n",
              "        const docLink = document.createElement('div');\n",
              "        docLink.innerHTML = docLinkHtml;\n",
              "        element.appendChild(docLink);\n",
              "      }\n",
              "    </script>\n",
              "  </div>\n",
              "\n",
              "\n",
              "<div id=\"df-537bcb58-6c3b-4d3f-93a4-21ac7cf29fc5\">\n",
              "  <button class=\"colab-df-quickchart\" onclick=\"quickchart('df-537bcb58-6c3b-4d3f-93a4-21ac7cf29fc5')\"\n",
              "            title=\"Suggest charts\"\n",
              "            style=\"display:none;\">\n",
              "\n",
              "<svg xmlns=\"http://www.w3.org/2000/svg\" height=\"24px\"viewBox=\"0 0 24 24\"\n",
              "     width=\"24px\">\n",
              "    <g>\n",
              "        <path d=\"M19 3H5c-1.1 0-2 .9-2 2v14c0 1.1.9 2 2 2h14c1.1 0 2-.9 2-2V5c0-1.1-.9-2-2-2zM9 17H7v-7h2v7zm4 0h-2V7h2v10zm4 0h-2v-4h2v4z\"/>\n",
              "    </g>\n",
              "</svg>\n",
              "  </button>\n",
              "\n",
              "<style>\n",
              "  .colab-df-quickchart {\n",
              "      --bg-color: #E8F0FE;\n",
              "      --fill-color: #1967D2;\n",
              "      --hover-bg-color: #E2EBFA;\n",
              "      --hover-fill-color: #174EA6;\n",
              "      --disabled-fill-color: #AAA;\n",
              "      --disabled-bg-color: #DDD;\n",
              "  }\n",
              "\n",
              "  [theme=dark] .colab-df-quickchart {\n",
              "      --bg-color: #3B4455;\n",
              "      --fill-color: #D2E3FC;\n",
              "      --hover-bg-color: #434B5C;\n",
              "      --hover-fill-color: #FFFFFF;\n",
              "      --disabled-bg-color: #3B4455;\n",
              "      --disabled-fill-color: #666;\n",
              "  }\n",
              "\n",
              "  .colab-df-quickchart {\n",
              "    background-color: var(--bg-color);\n",
              "    border: none;\n",
              "    border-radius: 50%;\n",
              "    cursor: pointer;\n",
              "    display: none;\n",
              "    fill: var(--fill-color);\n",
              "    height: 32px;\n",
              "    padding: 0;\n",
              "    width: 32px;\n",
              "  }\n",
              "\n",
              "  .colab-df-quickchart:hover {\n",
              "    background-color: var(--hover-bg-color);\n",
              "    box-shadow: 0 1px 2px rgba(60, 64, 67, 0.3), 0 1px 3px 1px rgba(60, 64, 67, 0.15);\n",
              "    fill: var(--button-hover-fill-color);\n",
              "  }\n",
              "\n",
              "  .colab-df-quickchart-complete:disabled,\n",
              "  .colab-df-quickchart-complete:disabled:hover {\n",
              "    background-color: var(--disabled-bg-color);\n",
              "    fill: var(--disabled-fill-color);\n",
              "    box-shadow: none;\n",
              "  }\n",
              "\n",
              "  .colab-df-spinner {\n",
              "    border: 2px solid var(--fill-color);\n",
              "    border-color: transparent;\n",
              "    border-bottom-color: var(--fill-color);\n",
              "    animation:\n",
              "      spin 1s steps(1) infinite;\n",
              "  }\n",
              "\n",
              "  @keyframes spin {\n",
              "    0% {\n",
              "      border-color: transparent;\n",
              "      border-bottom-color: var(--fill-color);\n",
              "      border-left-color: var(--fill-color);\n",
              "    }\n",
              "    20% {\n",
              "      border-color: transparent;\n",
              "      border-left-color: var(--fill-color);\n",
              "      border-top-color: var(--fill-color);\n",
              "    }\n",
              "    30% {\n",
              "      border-color: transparent;\n",
              "      border-left-color: var(--fill-color);\n",
              "      border-top-color: var(--fill-color);\n",
              "      border-right-color: var(--fill-color);\n",
              "    }\n",
              "    40% {\n",
              "      border-color: transparent;\n",
              "      border-right-color: var(--fill-color);\n",
              "      border-top-color: var(--fill-color);\n",
              "    }\n",
              "    60% {\n",
              "      border-color: transparent;\n",
              "      border-right-color: var(--fill-color);\n",
              "    }\n",
              "    80% {\n",
              "      border-color: transparent;\n",
              "      border-right-color: var(--fill-color);\n",
              "      border-bottom-color: var(--fill-color);\n",
              "    }\n",
              "    90% {\n",
              "      border-color: transparent;\n",
              "      border-bottom-color: var(--fill-color);\n",
              "    }\n",
              "  }\n",
              "</style>\n",
              "\n",
              "  <script>\n",
              "    async function quickchart(key) {\n",
              "      const quickchartButtonEl =\n",
              "        document.querySelector('#' + key + ' button');\n",
              "      quickchartButtonEl.disabled = true;  // To prevent multiple clicks.\n",
              "      quickchartButtonEl.classList.add('colab-df-spinner');\n",
              "      try {\n",
              "        const charts = await google.colab.kernel.invokeFunction(\n",
              "            'suggestCharts', [key], {});\n",
              "      } catch (error) {\n",
              "        console.error('Error during call to suggestCharts:', error);\n",
              "      }\n",
              "      quickchartButtonEl.classList.remove('colab-df-spinner');\n",
              "      quickchartButtonEl.classList.add('colab-df-quickchart-complete');\n",
              "    }\n",
              "    (() => {\n",
              "      let quickchartButtonEl =\n",
              "        document.querySelector('#df-537bcb58-6c3b-4d3f-93a4-21ac7cf29fc5 button');\n",
              "      quickchartButtonEl.style.display =\n",
              "        google.colab.kernel.accessAllowed ? 'block' : 'none';\n",
              "    })();\n",
              "  </script>\n",
              "</div>\n",
              "\n",
              "    </div>\n",
              "  </div>\n"
            ],
            "application/vnd.google.colaboratory.intrinsic+json": {
              "type": "dataframe",
              "variable_name": "base_census"
            }
          },
          "metadata": {},
          "execution_count": 54
        }
      ],
      "source": [
        "base_census = pd.get_dummies(base_census,prefix=['workclass', 'education', 'marital-status', 'occupation', 'relationship', 'race', 'sex', 'inative-country'],\n",
        "                            columns = ['workclass', 'education', 'marital-status', 'occupation', 'relationship', 'race', 'sex', 'inative-country'],\n",
        "                            dtype='int') #incluido dtype='int', pois no colab não identificou 0 ou 1\n",
        "base_census.head(5)"
      ]
    },
    {
      "cell_type": "code",
      "execution_count": 55,
      "metadata": {
        "id": "XMUdrbVbi2Tn",
        "outputId": "1fb279f1-4565-4bce-c873-76c229cc32d2",
        "colab": {
          "base_uri": "https://localhost:8080/"
        }
      },
      "outputs": [
        {
          "output_type": "execute_result",
          "data": {
            "text/plain": [
              "(22792, 109)"
            ]
          },
          "metadata": {},
          "execution_count": 55
        }
      ],
      "source": [
        "base_treinamento = base_census.iloc[0:22792,:]\n",
        "base_treinamento.shape"
      ]
    },
    {
      "cell_type": "code",
      "execution_count": 56,
      "metadata": {
        "id": "D8PzGnKvi2To",
        "outputId": "e42c0233-d44a-4179-8bc9-4b8b44551a69",
        "colab": {
          "base_uri": "https://localhost:8080/"
        }
      },
      "outputs": [
        {
          "output_type": "execute_result",
          "data": {
            "text/plain": [
              "(9769, 109)"
            ]
          },
          "metadata": {},
          "execution_count": 56
        }
      ],
      "source": [
        "base_teste = base_census.iloc[22792:,:]\n",
        "base_teste.shape"
      ]
    },
    {
      "cell_type": "code",
      "execution_count": 57,
      "metadata": {
        "id": "kyTDIlLmi2Tp",
        "outputId": "0a584875-a63c-4bad-f01b-7f86b15ffc70",
        "colab": {
          "base_uri": "https://localhost:8080/"
        }
      },
      "outputs": [
        {
          "output_type": "execute_result",
          "data": {
            "text/plain": [
              "32561"
            ]
          },
          "metadata": {},
          "execution_count": 57
        }
      ],
      "source": [
        "22792 + 9769"
      ]
    },
    {
      "cell_type": "markdown",
      "source": [
        "## Especificação das Variáveis X e Y (AWS é necessário remover os rótulos das variáveis)"
      ],
      "metadata": {
        "id": "NO2Iv0NBvzFr"
      }
    },
    {
      "cell_type": "code",
      "execution_count": 58,
      "metadata": {
        "id": "luhXkx5Fi2Tp",
        "outputId": "5b798b75-0bb3-48f4-a567-0f3ab222ad9a",
        "colab": {
          "base_uri": "https://localhost:8080/"
        }
      },
      "outputs": [
        {
          "output_type": "execute_result",
          "data": {
            "text/plain": [
              "array([[    30,  75167,     13, ...,      1,      0,      0],\n",
              "       [    39, 176296,      9, ...,      1,      0,      0],\n",
              "       [    19,  93518,     10, ...,      1,      0,      0],\n",
              "       ...,\n",
              "       [    58, 151910,      9, ...,      1,      0,      0],\n",
              "       [    22, 201490,      9, ...,      1,      0,      0],\n",
              "       [    52, 287927,      9, ...,      1,      0,      0]])"
            ]
          },
          "metadata": {},
          "execution_count": 58
        }
      ],
      "source": [
        "X_teste = base_teste.iloc[:,1:len(base_census)].values\n",
        "X_teste"
      ]
    },
    {
      "cell_type": "code",
      "execution_count": 59,
      "metadata": {
        "id": "q2tDTwgEi2Tq",
        "outputId": "3926716f-84e3-448c-ccec-8cedcacdcd66",
        "colab": {
          "base_uri": "https://localhost:8080/"
        }
      },
      "outputs": [
        {
          "output_type": "execute_result",
          "data": {
            "text/plain": [
              "(9769, 108)"
            ]
          },
          "metadata": {},
          "execution_count": 59
        }
      ],
      "source": [
        "X_teste.shape"
      ]
    },
    {
      "cell_type": "code",
      "execution_count": 60,
      "metadata": {
        "id": "KRRK922Di2Tq",
        "outputId": "f8b81e43-2101-4d6c-aba6-42fbd3d094c9",
        "colab": {
          "base_uri": "https://localhost:8080/"
        }
      },
      "outputs": [
        {
          "output_type": "execute_result",
          "data": {
            "text/plain": [
              "array([0., 1., 0., ..., 0., 0., 1.])"
            ]
          },
          "metadata": {},
          "execution_count": 60
        }
      ],
      "source": [
        "y_teste = base_teste.iloc[:, 0].values\n",
        "y_teste"
      ]
    },
    {
      "cell_type": "markdown",
      "source": [],
      "metadata": {
        "id": "XylEv3H2xdkx"
      }
    },
    {
      "cell_type": "code",
      "execution_count": null,
      "metadata": {
        "id": "grn5trjji2Tq"
      },
      "outputs": [],
      "source": [
        "base_treinamento.to_csv('census_train_xgboost.csv', header = False, index = False)\n",
        "base_teste.to_csv('census_test_xgboost.csv', header = False, index = False)"
      ]
    },
    {
      "cell_type": "markdown",
      "metadata": {
        "id": "P0lt3A13i2Tr"
      },
      "source": [
        "# Configurações SageMaker"
      ]
    },
    {
      "cell_type": "code",
      "execution_count": null,
      "metadata": {
        "id": "UDtWttzai2Tr"
      },
      "outputs": [],
      "source": [
        "import sagemaker\n",
        "import boto3\n",
        "from sagemaker import Session\n",
        "import sagemaker.amazon.common as smac # sagemaker commom library\n",
        "import io\n",
        "import os"
      ]
    },
    {
      "cell_type": "code",
      "execution_count": null,
      "metadata": {
        "id": "W-cI3voKi2Tr",
        "outputId": "50d6b5c6-7031-40f0-a98e-25b63f64bf96"
      },
      "outputs": [
        {
          "name": "stdout",
          "output_type": "stream",
          "text": [
            "Role: arn:aws:iam::936535973187:role/service-role/AmazonSageMaker-ExecutionRole-20220510T125992\n",
            "Localização da base de treinamento: s3://cursoawssagemaker/datasets/census/train/census-train-data-xgboost\n",
            "Localização da base de teste: s3://cursoawssagemaker/datasets/census/test/census-test-data-xgboost\n",
            "Modelo final será salvo em: s3://cursoawssagemaker/modelos/census/xgboost/output\n"
          ]
        }
      ],
      "source": [
        "session = sagemaker.Session()\n",
        "bucket = 'cursoawssagemaker'\n",
        "subpasta_modelo = 'modelos/census/xgboost'\n",
        "subpasta_dataset = 'datasets/census'\n",
        "key_train = 'census-train-data-xgboost'\n",
        "key_test = 'census-test-data-xgboost'\n",
        "role = sagemaker.get_execution_role()\n",
        "s3_train_data = 's3://{}/{}/train/{}'.format(bucket, subpasta_dataset, key_train)\n",
        "s3_test_data = 's3://{}/{}/test/{}'.format(bucket, subpasta_dataset, key_test)\n",
        "output_location = 's3://{}/{}/output'.format(bucket, subpasta_modelo)\n",
        "print('Role: {}'.format(role))\n",
        "print('Localização da base de treinamento: {}'.format(s3_train_data))\n",
        "print('Localização da base de teste: {}'.format(s3_test_data))\n",
        "print('Modelo final será salvo em: {}'.format(output_location))"
      ]
    },
    {
      "cell_type": "code",
      "execution_count": null,
      "metadata": {
        "id": "4Hv4oZ6Fi2Ts"
      },
      "outputs": [],
      "source": [
        "with open('census_train_xgboost.csv', 'rb') as f:\n",
        "    boto3.Session().resource('s3').Bucket(bucket).Object(os.path.join(subpasta_dataset, 'train', key_train)).upload_fileobj(f)"
      ]
    },
    {
      "cell_type": "code",
      "execution_count": null,
      "metadata": {
        "id": "9MF438rbi2Ts"
      },
      "outputs": [],
      "source": [
        "with open('census_test_xgboost.csv', 'rb') as f:\n",
        "    boto3.Session().resource('s3').Bucket(bucket).Object(os.path.join(subpasta_dataset, 'test', key_test)).upload_fileobj(f)"
      ]
    },
    {
      "cell_type": "markdown",
      "metadata": {
        "id": "AYW34hcUi2Ts"
      },
      "source": [
        "# Treinamento do XGBoost"
      ]
    },
    {
      "cell_type": "code",
      "execution_count": null,
      "metadata": {
        "id": "u6sld7ebi2Tt"
      },
      "outputs": [],
      "source": [
        "# https://docs.aws.amazon.com/sagemaker/latest/dg/ecr-sa-east-1.html\n",
        "from sagemaker import image_uris\n",
        "container = image_uris.retrieve(framework = 'xgboost', region=boto3.Session().region_name, version='latest')"
      ]
    },
    {
      "cell_type": "code",
      "execution_count": null,
      "metadata": {
        "id": "9IRryB7ki2Tt"
      },
      "outputs": [],
      "source": [
        "# https://sagemaker.readthedocs.io/en/stable/api/training/estimators.html\n",
        "xgboost = sagemaker.estimator.Estimator(image_uri = container,\n",
        "                                        role = role,\n",
        "                                        instance_count = 1,\n",
        "                                        instance_type = 'ml.m5.2xlarge',\n",
        "                                        output_path = output_location,\n",
        "                                        sagemaker_session = session)"
      ]
    },
    {
      "cell_type": "code",
      "execution_count": null,
      "metadata": {
        "id": "MLy-9vW0i2Tt"
      },
      "outputs": [],
      "source": [
        "# https://docs.aws.amazon.com/sagemaker/latest/dg/xgboost_hyperparameters.html\n",
        "xgboost.set_hyperparameters(num_round = 100, objective = 'reg:logistic')"
      ]
    },
    {
      "cell_type": "code",
      "execution_count": null,
      "metadata": {
        "id": "M08Z9v3Vi2Tt"
      },
      "outputs": [],
      "source": [
        "train_input = sagemaker.inputs.TrainingInput(s3_data = s3_train_data, content_type='csv', s3_data_type = 'S3Prefix')\n",
        "validation_input = sagemaker.inputs.TrainingInput(s3_data = s3_test_data, content_type='csv', s3_data_type = 'S3Prefix')\n",
        "data_channels = {'train': train_input, 'validation': validation_input}"
      ]
    },
    {
      "cell_type": "code",
      "execution_count": null,
      "metadata": {
        "id": "jpprLk8ei2Tu",
        "outputId": "88a4bcce-978f-4d8f-81d7-bcab33dede1c"
      },
      "outputs": [
        {
          "name": "stdout",
          "output_type": "stream",
          "text": [
            "2022-05-17 15:52:00 Starting - Starting the training job...\n",
            "2022-05-17 15:52:29 Starting - Preparing the instances for trainingProfilerReport-1652802720: InProgress\n",
            ".........\n",
            "2022-05-17 15:53:57 Downloading - Downloading input data...\n",
            "2022-05-17 15:54:17 Training - Downloading the training image...\n",
            "2022-05-17 15:54:57 Training - Training image download completed. Training in progress..\u001b[34mArguments: train\u001b[0m\n",
            "\u001b[34m[2022-05-17:15:54:56:INFO] Running standalone xgboost training.\u001b[0m\n",
            "\u001b[34m[2022-05-17:15:54:56:INFO] File size need to be processed in the node: 7.07mb. Available memory size in the node: 23504.35mb\u001b[0m\n",
            "\u001b[34m[2022-05-17:15:54:56:INFO] Determined delimiter of CSV input is ','\u001b[0m\n",
            "\u001b[34m[15:54:56] S3DistributionType set as FullyReplicated\u001b[0m\n",
            "\u001b[34m[15:54:56] 22792x108 matrix with 2461536 entries loaded from /opt/ml/input/data/train?format=csv&label_column=0&delimiter=,\u001b[0m\n",
            "\u001b[34m[2022-05-17:15:54:56:INFO] Determined delimiter of CSV input is ','\u001b[0m\n",
            "\u001b[34m[15:54:56] S3DistributionType set as FullyReplicated\u001b[0m\n",
            "\u001b[34m[15:54:56] 9769x108 matrix with 1055052 entries loaded from /opt/ml/input/data/validation?format=csv&label_column=0&delimiter=,\u001b[0m\n",
            "\u001b[34m[15:54:56] src/tree/updater_prune.cc:74: tree pruning end, 1 roots, 78 extra nodes, 0 pruned nodes, max_depth=6\u001b[0m\n",
            "\u001b[34m[0]#011train-rmse:0.419766#011validation-rmse:0.419838\u001b[0m\n",
            "\u001b[34m[15:54:56] src/tree/updater_prune.cc:74: tree pruning end, 1 roots, 74 extra nodes, 0 pruned nodes, max_depth=6\u001b[0m\n",
            "\u001b[34m[1]#011train-rmse:0.37321#011validation-rmse:0.373424\u001b[0m\n",
            "\u001b[34m[15:54:56] src/tree/updater_prune.cc:74: tree pruning end, 1 roots, 84 extra nodes, 0 pruned nodes, max_depth=6\u001b[0m\n",
            "\u001b[34m[2]#011train-rmse:0.346014#011validation-rmse:0.346806\u001b[0m\n",
            "\u001b[34m[15:54:56] src/tree/updater_prune.cc:74: tree pruning end, 1 roots, 88 extra nodes, 0 pruned nodes, max_depth=6\u001b[0m\n",
            "\u001b[34m[3]#011train-rmse:0.329785#011validation-rmse:0.3308\u001b[0m\n",
            "\u001b[34m[15:54:56] src/tree/updater_prune.cc:74: tree pruning end, 1 roots, 86 extra nodes, 0 pruned nodes, max_depth=6\u001b[0m\n",
            "\u001b[34m[4]#011train-rmse:0.320027#011validation-rmse:0.32153\u001b[0m\n",
            "\u001b[34m[15:54:57] src/tree/updater_prune.cc:74: tree pruning end, 1 roots, 82 extra nodes, 0 pruned nodes, max_depth=6\u001b[0m\n",
            "\u001b[34m[5]#011train-rmse:0.313561#011validation-rmse:0.315636\u001b[0m\n",
            "\u001b[34m[15:54:57] src/tree/updater_prune.cc:74: tree pruning end, 1 roots, 98 extra nodes, 0 pruned nodes, max_depth=6\u001b[0m\n",
            "\u001b[34m[6]#011train-rmse:0.309548#011validation-rmse:0.312007\u001b[0m\n",
            "\u001b[34m[15:54:57] src/tree/updater_prune.cc:74: tree pruning end, 1 roots, 102 extra nodes, 0 pruned nodes, max_depth=6\u001b[0m\n",
            "\u001b[34m[7]#011train-rmse:0.306005#011validation-rmse:0.309277\u001b[0m\n",
            "\u001b[34m[15:54:57] src/tree/updater_prune.cc:74: tree pruning end, 1 roots, 90 extra nodes, 0 pruned nodes, max_depth=6\u001b[0m\n",
            "\u001b[34m[8]#011train-rmse:0.303861#011validation-rmse:0.307374\u001b[0m\n",
            "\u001b[34m[15:54:57] src/tree/updater_prune.cc:74: tree pruning end, 1 roots, 82 extra nodes, 0 pruned nodes, max_depth=6\u001b[0m\n",
            "\u001b[34m[9]#011train-rmse:0.302181#011validation-rmse:0.306217\u001b[0m\n",
            "\u001b[34m[15:54:57] src/tree/updater_prune.cc:74: tree pruning end, 1 roots, 74 extra nodes, 0 pruned nodes, max_depth=6\u001b[0m\n",
            "\u001b[34m[10]#011train-rmse:0.30119#011validation-rmse:0.305415\u001b[0m\n",
            "\u001b[34m[15:54:57] src/tree/updater_prune.cc:74: tree pruning end, 1 roots, 92 extra nodes, 0 pruned nodes, max_depth=6\u001b[0m\n",
            "\u001b[34m[11]#011train-rmse:0.299657#011validation-rmse:0.304074\u001b[0m\n",
            "\u001b[34m[15:54:57] src/tree/updater_prune.cc:74: tree pruning end, 1 roots, 84 extra nodes, 0 pruned nodes, max_depth=6\u001b[0m\n",
            "\u001b[34m[12]#011train-rmse:0.298238#011validation-rmse:0.30329\u001b[0m\n",
            "\u001b[34m[15:54:57] src/tree/updater_prune.cc:74: tree pruning end, 1 roots, 72 extra nodes, 0 pruned nodes, max_depth=6\u001b[0m\n",
            "\u001b[34m[13]#011train-rmse:0.296942#011validation-rmse:0.302303\u001b[0m\n",
            "\u001b[34m[15:54:57] src/tree/updater_prune.cc:74: tree pruning end, 1 roots, 58 extra nodes, 0 pruned nodes, max_depth=6\u001b[0m\n",
            "\u001b[34m[14]#011train-rmse:0.295836#011validation-rmse:0.301455\u001b[0m\n",
            "\u001b[34m[15:54:57] src/tree/updater_prune.cc:74: tree pruning end, 1 roots, 108 extra nodes, 0 pruned nodes, max_depth=6\u001b[0m\n",
            "\u001b[34m[15]#011train-rmse:0.294382#011validation-rmse:0.301038\u001b[0m\n",
            "\u001b[34m[15:54:57] src/tree/updater_prune.cc:74: tree pruning end, 1 roots, 90 extra nodes, 0 pruned nodes, max_depth=6\u001b[0m\n",
            "\u001b[34m[16]#011train-rmse:0.293386#011validation-rmse:0.300726\u001b[0m\n",
            "\u001b[34m[15:54:57] src/tree/updater_prune.cc:74: tree pruning end, 1 roots, 64 extra nodes, 0 pruned nodes, max_depth=6\u001b[0m\n",
            "\u001b[34m[17]#011train-rmse:0.29195#011validation-rmse:0.2999\u001b[0m\n",
            "\u001b[34m[15:54:57] src/tree/updater_prune.cc:74: tree pruning end, 1 roots, 66 extra nodes, 0 pruned nodes, max_depth=6\u001b[0m\n",
            "\u001b[34m[18]#011train-rmse:0.290909#011validation-rmse:0.299159\u001b[0m\n",
            "\u001b[34m[15:54:57] src/tree/updater_prune.cc:74: tree pruning end, 1 roots, 84 extra nodes, 0 pruned nodes, max_depth=6\u001b[0m\n",
            "\u001b[34m[19]#011train-rmse:0.289462#011validation-rmse:0.298907\u001b[0m\n",
            "\u001b[34m[15:54:57] src/tree/updater_prune.cc:74: tree pruning end, 1 roots, 62 extra nodes, 0 pruned nodes, max_depth=6\u001b[0m\n",
            "\u001b[34m[20]#011train-rmse:0.288661#011validation-rmse:0.298547\u001b[0m\n",
            "\u001b[34m[15:54:57] src/tree/updater_prune.cc:74: tree pruning end, 1 roots, 42 extra nodes, 0 pruned nodes, max_depth=6\u001b[0m\n",
            "\u001b[34m[21]#011train-rmse:0.287927#011validation-rmse:0.298001\u001b[0m\n",
            "\u001b[34m[15:54:57] src/tree/updater_prune.cc:74: tree pruning end, 1 roots, 78 extra nodes, 0 pruned nodes, max_depth=6\u001b[0m\n",
            "\u001b[34m[22]#011train-rmse:0.287007#011validation-rmse:0.297868\u001b[0m\n",
            "\u001b[34m[15:54:57] src/tree/updater_prune.cc:74: tree pruning end, 1 roots, 68 extra nodes, 0 pruned nodes, max_depth=6\u001b[0m\n",
            "\u001b[34m[23]#011train-rmse:0.286395#011validation-rmse:0.297539\u001b[0m\n",
            "\u001b[34m[15:54:57] src/tree/updater_prune.cc:74: tree pruning end, 1 roots, 96 extra nodes, 0 pruned nodes, max_depth=6\u001b[0m\n",
            "\u001b[34m[24]#011train-rmse:0.285068#011validation-rmse:0.297559\u001b[0m\n",
            "\u001b[34m[15:54:57] src/tree/updater_prune.cc:74: tree pruning end, 1 roots, 48 extra nodes, 0 pruned nodes, max_depth=6\u001b[0m\n",
            "\u001b[34m[25]#011train-rmse:0.284752#011validation-rmse:0.297352\u001b[0m\n",
            "\u001b[34m[15:54:57] src/tree/updater_prune.cc:74: tree pruning end, 1 roots, 70 extra nodes, 0 pruned nodes, max_depth=6\u001b[0m\n",
            "\u001b[34m[26]#011train-rmse:0.284276#011validation-rmse:0.297286\u001b[0m\n",
            "\u001b[34m[15:54:57] src/tree/updater_prune.cc:74: tree pruning end, 1 roots, 92 extra nodes, 0 pruned nodes, max_depth=6\u001b[0m\n",
            "\u001b[34m[27]#011train-rmse:0.283252#011validation-rmse:0.297094\u001b[0m\n",
            "\u001b[34m[15:54:57] src/tree/updater_prune.cc:74: tree pruning end, 1 roots, 84 extra nodes, 0 pruned nodes, max_depth=6\u001b[0m\n",
            "\u001b[34m[28]#011train-rmse:0.282662#011validation-rmse:0.296879\u001b[0m\n",
            "\u001b[34m[15:54:57] src/tree/updater_prune.cc:74: tree pruning end, 1 roots, 54 extra nodes, 0 pruned nodes, max_depth=6\u001b[0m\n",
            "\u001b[34m[29]#011train-rmse:0.282243#011validation-rmse:0.296665\u001b[0m\n",
            "\u001b[34m[15:54:57] src/tree/updater_prune.cc:74: tree pruning end, 1 roots, 48 extra nodes, 0 pruned nodes, max_depth=6\u001b[0m\n",
            "\u001b[34m[30]#011train-rmse:0.281808#011validation-rmse:0.296529\u001b[0m\n",
            "\u001b[34m[15:54:57] src/tree/updater_prune.cc:74: tree pruning end, 1 roots, 60 extra nodes, 0 pruned nodes, max_depth=6\u001b[0m\n",
            "\u001b[34m[31]#011train-rmse:0.281086#011validation-rmse:0.296485\u001b[0m\n",
            "\u001b[34m[15:54:57] src/tree/updater_prune.cc:74: tree pruning end, 1 roots, 48 extra nodes, 0 pruned nodes, max_depth=6\u001b[0m\n",
            "\u001b[34m[32]#011train-rmse:0.280822#011validation-rmse:0.296359\u001b[0m\n",
            "\u001b[34m[15:54:57] src/tree/updater_prune.cc:74: tree pruning end, 1 roots, 68 extra nodes, 0 pruned nodes, max_depth=6\u001b[0m\n",
            "\u001b[34m[33]#011train-rmse:0.28031#011validation-rmse:0.296265\u001b[0m\n",
            "\u001b[34m[15:54:57] src/tree/updater_prune.cc:74: tree pruning end, 1 roots, 42 extra nodes, 0 pruned nodes, max_depth=6\u001b[0m\n",
            "\u001b[34m[34]#011train-rmse:0.279962#011validation-rmse:0.296239\u001b[0m\n",
            "\u001b[34m[15:54:57] src/tree/updater_prune.cc:74: tree pruning end, 1 roots, 54 extra nodes, 0 pruned nodes, max_depth=6\u001b[0m\n",
            "\u001b[34m[35]#011train-rmse:0.279489#011validation-rmse:0.296206\u001b[0m\n",
            "\u001b[34m[15:54:57] src/tree/updater_prune.cc:74: tree pruning end, 1 roots, 58 extra nodes, 0 pruned nodes, max_depth=6\u001b[0m\n",
            "\u001b[34m[36]#011train-rmse:0.278948#011validation-rmse:0.296173\u001b[0m\n",
            "\u001b[34m[15:54:57] src/tree/updater_prune.cc:74: tree pruning end, 1 roots, 110 extra nodes, 0 pruned nodes, max_depth=6\u001b[0m\n",
            "\u001b[34m[37]#011train-rmse:0.277544#011validation-rmse:0.296163\u001b[0m\n",
            "\u001b[34m[15:54:57] src/tree/updater_prune.cc:74: tree pruning end, 1 roots, 66 extra nodes, 0 pruned nodes, max_depth=6\u001b[0m\n",
            "\u001b[34m[38]#011train-rmse:0.276907#011validation-rmse:0.296235\u001b[0m\n",
            "\u001b[34m[15:54:58] src/tree/updater_prune.cc:74: tree pruning end, 1 roots, 28 extra nodes, 0 pruned nodes, max_depth=6\u001b[0m\n",
            "\u001b[34m[39]#011train-rmse:0.276788#011validation-rmse:0.296104\u001b[0m\n",
            "\u001b[34m[15:54:58] src/tree/updater_prune.cc:74: tree pruning end, 1 roots, 40 extra nodes, 0 pruned nodes, max_depth=6\u001b[0m\n",
            "\u001b[34m[40]#011train-rmse:0.276482#011validation-rmse:0.296135\u001b[0m\n",
            "\u001b[34m[15:54:58] src/tree/updater_prune.cc:74: tree pruning end, 1 roots, 44 extra nodes, 0 pruned nodes, max_depth=6\u001b[0m\n",
            "\u001b[34m[41]#011train-rmse:0.27624#011validation-rmse:0.296047\u001b[0m\n",
            "\u001b[34m[15:54:58] src/tree/updater_prune.cc:74: tree pruning end, 1 roots, 38 extra nodes, 0 pruned nodes, max_depth=6\u001b[0m\n",
            "\u001b[34m[42]#011train-rmse:0.275804#011validation-rmse:0.296185\u001b[0m\n",
            "\u001b[34m[15:54:58] src/tree/updater_prune.cc:74: tree pruning end, 1 roots, 68 extra nodes, 0 pruned nodes, max_depth=6\u001b[0m\n",
            "\u001b[34m[43]#011train-rmse:0.275147#011validation-rmse:0.296152\u001b[0m\n",
            "\u001b[34m[15:54:58] src/tree/updater_prune.cc:74: tree pruning end, 1 roots, 74 extra nodes, 0 pruned nodes, max_depth=6\u001b[0m\n",
            "\u001b[34m[44]#011train-rmse:0.274431#011validation-rmse:0.29624\u001b[0m\n",
            "\u001b[34m[15:54:58] src/tree/updater_prune.cc:74: tree pruning end, 1 roots, 34 extra nodes, 0 pruned nodes, max_depth=6\u001b[0m\n",
            "\u001b[34m[45]#011train-rmse:0.274254#011validation-rmse:0.296223\u001b[0m\n",
            "\u001b[34m[15:54:58] src/tree/updater_prune.cc:74: tree pruning end, 1 roots, 58 extra nodes, 0 pruned nodes, max_depth=6\u001b[0m\n",
            "\u001b[34m[46]#011train-rmse:0.273778#011validation-rmse:0.296215\u001b[0m\n",
            "\u001b[34m[15:54:58] src/tree/updater_prune.cc:74: tree pruning end, 1 roots, 58 extra nodes, 0 pruned nodes, max_depth=6\u001b[0m\n",
            "\u001b[34m[47]#011train-rmse:0.273243#011validation-rmse:0.296131\u001b[0m\n",
            "\u001b[34m[15:54:58] src/tree/updater_prune.cc:74: tree pruning end, 1 roots, 102 extra nodes, 0 pruned nodes, max_depth=6\u001b[0m\n",
            "\u001b[34m[48]#011train-rmse:0.272261#011validation-rmse:0.296212\u001b[0m\n",
            "\u001b[34m[15:54:58] src/tree/updater_prune.cc:74: tree pruning end, 1 roots, 30 extra nodes, 0 pruned nodes, max_depth=6\u001b[0m\n",
            "\u001b[34m[49]#011train-rmse:0.272142#011validation-rmse:0.296109\u001b[0m\n",
            "\u001b[34m[15:54:58] src/tree/updater_prune.cc:74: tree pruning end, 1 roots, 26 extra nodes, 0 pruned nodes, max_depth=6\u001b[0m\n",
            "\u001b[34m[50]#011train-rmse:0.272081#011validation-rmse:0.296083\u001b[0m\n",
            "\u001b[34m[15:54:58] src/tree/updater_prune.cc:74: tree pruning end, 1 roots, 32 extra nodes, 0 pruned nodes, max_depth=6\u001b[0m\n",
            "\u001b[34m[51]#011train-rmse:0.271913#011validation-rmse:0.296001\u001b[0m\n",
            "\u001b[34m[15:54:58] src/tree/updater_prune.cc:74: tree pruning end, 1 roots, 52 extra nodes, 0 pruned nodes, max_depth=6\u001b[0m\n",
            "\u001b[34m[52]#011train-rmse:0.271605#011validation-rmse:0.296063\u001b[0m\n",
            "\u001b[34m[15:54:58] src/tree/updater_prune.cc:74: tree pruning end, 1 roots, 46 extra nodes, 0 pruned nodes, max_depth=6\u001b[0m\n",
            "\u001b[34m[53]#011train-rmse:0.27134#011validation-rmse:0.296055\u001b[0m\n",
            "\u001b[34m[15:54:58] src/tree/updater_prune.cc:74: tree pruning end, 1 roots, 38 extra nodes, 0 pruned nodes, max_depth=6\u001b[0m\n",
            "\u001b[34m[54]#011train-rmse:0.271181#011validation-rmse:0.296056\u001b[0m\n",
            "\u001b[34m[15:54:58] src/tree/updater_prune.cc:74: tree pruning end, 1 roots, 42 extra nodes, 0 pruned nodes, max_depth=6\u001b[0m\n",
            "\u001b[34m[55]#011train-rmse:0.270955#011validation-rmse:0.296144\u001b[0m\n",
            "\u001b[34m[15:54:58] src/tree/updater_prune.cc:74: tree pruning end, 1 roots, 94 extra nodes, 0 pruned nodes, max_depth=6\u001b[0m\n",
            "\u001b[34m[56]#011train-rmse:0.269778#011validation-rmse:0.296117\u001b[0m\n",
            "\u001b[34m[15:54:58] src/tree/updater_prune.cc:74: tree pruning end, 1 roots, 70 extra nodes, 0 pruned nodes, max_depth=6\u001b[0m\n",
            "\u001b[34m[57]#011train-rmse:0.269174#011validation-rmse:0.296216\u001b[0m\n",
            "\u001b[34m[15:54:58] src/tree/updater_prune.cc:74: tree pruning end, 1 roots, 60 extra nodes, 0 pruned nodes, max_depth=6\u001b[0m\n",
            "\u001b[34m[58]#011train-rmse:0.268598#011validation-rmse:0.296268\u001b[0m\n",
            "\u001b[34m[15:54:58] src/tree/updater_prune.cc:74: tree pruning end, 1 roots, 34 extra nodes, 0 pruned nodes, max_depth=6\u001b[0m\n",
            "\u001b[34m[59]#011train-rmse:0.2683#011validation-rmse:0.2963\u001b[0m\n",
            "\u001b[34m[15:54:58] src/tree/updater_prune.cc:74: tree pruning end, 1 roots, 76 extra nodes, 0 pruned nodes, max_depth=6\u001b[0m\n",
            "\u001b[34m[60]#011train-rmse:0.267437#011validation-rmse:0.296263\u001b[0m\n",
            "\u001b[34m[15:54:58] src/tree/updater_prune.cc:74: tree pruning end, 1 roots, 68 extra nodes, 0 pruned nodes, max_depth=6\u001b[0m\n",
            "\u001b[34m[61]#011train-rmse:0.266957#011validation-rmse:0.296398\u001b[0m\n",
            "\u001b[34m[15:54:58] src/tree/updater_prune.cc:74: tree pruning end, 1 roots, 90 extra nodes, 0 pruned nodes, max_depth=6\u001b[0m\n",
            "\u001b[34m[62]#011train-rmse:0.26592#011validation-rmse:0.296498\u001b[0m\n",
            "\u001b[34m[15:54:58] src/tree/updater_prune.cc:74: tree pruning end, 1 roots, 38 extra nodes, 0 pruned nodes, max_depth=6\u001b[0m\n",
            "\u001b[34m[63]#011train-rmse:0.26579#011validation-rmse:0.296488\u001b[0m\n",
            "\u001b[34m[15:54:58] src/tree/updater_prune.cc:74: tree pruning end, 1 roots, 48 extra nodes, 0 pruned nodes, max_depth=6\u001b[0m\n",
            "\u001b[34m[64]#011train-rmse:0.265487#011validation-rmse:0.29645\u001b[0m\n",
            "\u001b[34m[15:54:58] src/tree/updater_prune.cc:74: tree pruning end, 1 roots, 36 extra nodes, 0 pruned nodes, max_depth=6\u001b[0m\n",
            "\u001b[34m[65]#011train-rmse:0.265332#011validation-rmse:0.2965\u001b[0m\n",
            "\u001b[34m[15:54:58] src/tree/updater_prune.cc:74: tree pruning end, 1 roots, 56 extra nodes, 0 pruned nodes, max_depth=6\u001b[0m\n",
            "\u001b[34m[66]#011train-rmse:0.2647#011validation-rmse:0.296467\u001b[0m\n",
            "\u001b[34m[15:54:58] src/tree/updater_prune.cc:74: tree pruning end, 1 roots, 18 extra nodes, 0 pruned nodes, max_depth=6\u001b[0m\n",
            "\u001b[34m[67]#011train-rmse:0.264586#011validation-rmse:0.296493\u001b[0m\n",
            "\u001b[34m[15:54:58] src/tree/updater_prune.cc:74: tree pruning end, 1 roots, 36 extra nodes, 0 pruned nodes, max_depth=6\u001b[0m\n",
            "\u001b[34m[68]#011train-rmse:0.264313#011validation-rmse:0.296515\u001b[0m\n",
            "\u001b[34m[15:54:58] src/tree/updater_prune.cc:74: tree pruning end, 1 roots, 34 extra nodes, 0 pruned nodes, max_depth=6\u001b[0m\n",
            "\u001b[34m[69]#011train-rmse:0.263969#011validation-rmse:0.296643\u001b[0m\n",
            "\u001b[34m[15:54:58] src/tree/updater_prune.cc:74: tree pruning end, 1 roots, 24 extra nodes, 0 pruned nodes, max_depth=6\u001b[0m\n",
            "\u001b[34m[70]#011train-rmse:0.263875#011validation-rmse:0.296663\u001b[0m\n",
            "\u001b[34m[15:54:58] src/tree/updater_prune.cc:74: tree pruning end, 1 roots, 30 extra nodes, 0 pruned nodes, max_depth=6\u001b[0m\n",
            "\u001b[34m[71]#011train-rmse:0.263656#011validation-rmse:0.296673\u001b[0m\n",
            "\u001b[34m[15:54:58] src/tree/updater_prune.cc:74: tree pruning end, 1 roots, 52 extra nodes, 0 pruned nodes, max_depth=6\u001b[0m\n",
            "\u001b[34m[72]#011train-rmse:0.263163#011validation-rmse:0.296747\u001b[0m\n",
            "\u001b[34m[15:54:58] src/tree/updater_prune.cc:74: tree pruning end, 1 roots, 26 extra nodes, 0 pruned nodes, max_depth=6\u001b[0m\n",
            "\u001b[34m[73]#011train-rmse:0.263094#011validation-rmse:0.296729\u001b[0m\n",
            "\u001b[34m[15:54:59] src/tree/updater_prune.cc:74: tree pruning end, 1 roots, 52 extra nodes, 0 pruned nodes, max_depth=6\u001b[0m\n",
            "\u001b[34m[74]#011train-rmse:0.262726#011validation-rmse:0.29669\u001b[0m\n",
            "\u001b[34m[15:54:59] src/tree/updater_prune.cc:74: tree pruning end, 1 roots, 66 extra nodes, 0 pruned nodes, max_depth=6\u001b[0m\n",
            "\u001b[34m[75]#011train-rmse:0.262243#011validation-rmse:0.296802\u001b[0m\n",
            "\u001b[34m[15:54:59] src/tree/updater_prune.cc:74: tree pruning end, 1 roots, 40 extra nodes, 0 pruned nodes, max_depth=6\u001b[0m\n",
            "\u001b[34m[76]#011train-rmse:0.262116#011validation-rmse:0.296776\u001b[0m\n",
            "\u001b[34m[15:54:59] src/tree/updater_prune.cc:74: tree pruning end, 1 roots, 22 extra nodes, 0 pruned nodes, max_depth=6\u001b[0m\n",
            "\u001b[34m[77]#011train-rmse:0.261997#011validation-rmse:0.296774\u001b[0m\n",
            "\u001b[34m[15:54:59] src/tree/updater_prune.cc:74: tree pruning end, 1 roots, 22 extra nodes, 0 pruned nodes, max_depth=6\u001b[0m\n",
            "\u001b[34m[78]#011train-rmse:0.26192#011validation-rmse:0.296778\u001b[0m\n",
            "\u001b[34m[15:54:59] src/tree/updater_prune.cc:74: tree pruning end, 1 roots, 32 extra nodes, 0 pruned nodes, max_depth=6\u001b[0m\n",
            "\u001b[34m[79]#011train-rmse:0.261863#011validation-rmse:0.296715\u001b[0m\n",
            "\u001b[34m[15:54:59] src/tree/updater_prune.cc:74: tree pruning end, 1 roots, 52 extra nodes, 0 pruned nodes, max_depth=6\u001b[0m\n",
            "\u001b[34m[80]#011train-rmse:0.261661#011validation-rmse:0.296755\u001b[0m\n",
            "\u001b[34m[15:54:59] src/tree/updater_prune.cc:74: tree pruning end, 1 roots, 30 extra nodes, 0 pruned nodes, max_depth=6\u001b[0m\n",
            "\u001b[34m[81]#011train-rmse:0.261557#011validation-rmse:0.296777\u001b[0m\n",
            "\u001b[34m[15:54:59] src/tree/updater_prune.cc:74: tree pruning end, 1 roots, 36 extra nodes, 0 pruned nodes, max_depth=6\u001b[0m\n",
            "\u001b[34m[82]#011train-rmse:0.261457#011validation-rmse:0.296844\u001b[0m\n",
            "\u001b[34m[15:54:59] src/tree/updater_prune.cc:74: tree pruning end, 1 roots, 40 extra nodes, 0 pruned nodes, max_depth=6\u001b[0m\n",
            "\u001b[34m[83]#011train-rmse:0.261343#011validation-rmse:0.296816\u001b[0m\n",
            "\u001b[34m[15:54:59] src/tree/updater_prune.cc:74: tree pruning end, 1 roots, 36 extra nodes, 0 pruned nodes, max_depth=6\u001b[0m\n",
            "\u001b[34m[84]#011train-rmse:0.261221#011validation-rmse:0.29683\u001b[0m\n",
            "\u001b[34m[15:54:59] src/tree/updater_prune.cc:74: tree pruning end, 1 roots, 34 extra nodes, 0 pruned nodes, max_depth=6\u001b[0m\n",
            "\u001b[34m[85]#011train-rmse:0.261028#011validation-rmse:0.29692\u001b[0m\n",
            "\u001b[34m[15:54:59] src/tree/updater_prune.cc:74: tree pruning end, 1 roots, 48 extra nodes, 0 pruned nodes, max_depth=6\u001b[0m\n",
            "\u001b[34m[86]#011train-rmse:0.260583#011validation-rmse:0.296957\u001b[0m\n",
            "\u001b[34m[15:54:59] src/tree/updater_prune.cc:74: tree pruning end, 1 roots, 38 extra nodes, 0 pruned nodes, max_depth=6\u001b[0m\n",
            "\u001b[34m[87]#011train-rmse:0.260325#011validation-rmse:0.296752\u001b[0m\n",
            "\u001b[34m[15:54:59] src/tree/updater_prune.cc:74: tree pruning end, 1 roots, 36 extra nodes, 0 pruned nodes, max_depth=6\u001b[0m\n",
            "\u001b[34m[88]#011train-rmse:0.260031#011validation-rmse:0.296871\u001b[0m\n",
            "\u001b[34m[15:54:59] src/tree/updater_prune.cc:74: tree pruning end, 1 roots, 70 extra nodes, 0 pruned nodes, max_depth=6\u001b[0m\n",
            "\u001b[34m[89]#011train-rmse:0.259485#011validation-rmse:0.296998\u001b[0m\n",
            "\u001b[34m[15:54:59] src/tree/updater_prune.cc:74: tree pruning end, 1 roots, 64 extra nodes, 0 pruned nodes, max_depth=6\u001b[0m\n",
            "\u001b[34m[90]#011train-rmse:0.259146#011validation-rmse:0.297021\u001b[0m\n",
            "\u001b[34m[15:54:59] src/tree/updater_prune.cc:74: tree pruning end, 1 roots, 70 extra nodes, 0 pruned nodes, max_depth=6\u001b[0m\n",
            "\u001b[34m[91]#011train-rmse:0.258495#011validation-rmse:0.297018\u001b[0m\n",
            "\u001b[34m[15:54:59] src/tree/updater_prune.cc:74: tree pruning end, 1 roots, 32 extra nodes, 0 pruned nodes, max_depth=6\u001b[0m\n",
            "\u001b[34m[92]#011train-rmse:0.258431#011validation-rmse:0.296936\u001b[0m\n",
            "\u001b[34m[15:54:59] src/tree/updater_prune.cc:74: tree pruning end, 1 roots, 40 extra nodes, 0 pruned nodes, max_depth=6\u001b[0m\n",
            "\u001b[34m[93]#011train-rmse:0.258056#011validation-rmse:0.297112\u001b[0m\n",
            "\u001b[34m[15:54:59] src/tree/updater_prune.cc:74: tree pruning end, 1 roots, 24 extra nodes, 0 pruned nodes, max_depth=6\u001b[0m\n",
            "\u001b[34m[94]#011train-rmse:0.257959#011validation-rmse:0.297089\u001b[0m\n",
            "\u001b[34m[15:54:59] src/tree/updater_prune.cc:74: tree pruning end, 1 roots, 20 extra nodes, 0 pruned nodes, max_depth=6\u001b[0m\n",
            "\u001b[34m[95]#011train-rmse:0.257909#011validation-rmse:0.297065\u001b[0m\n",
            "\u001b[34m[15:54:59] src/tree/updater_prune.cc:74: tree pruning end, 1 roots, 42 extra nodes, 0 pruned nodes, max_depth=6\u001b[0m\n",
            "\u001b[34m[96]#011train-rmse:0.257702#011validation-rmse:0.297117\u001b[0m\n",
            "\u001b[34m[15:54:59] src/tree/updater_prune.cc:74: tree pruning end, 1 roots, 42 extra nodes, 0 pruned nodes, max_depth=6\u001b[0m\n",
            "\u001b[34m[97]#011train-rmse:0.25754#011validation-rmse:0.297141\u001b[0m\n",
            "\u001b[34m[15:54:59] src/tree/updater_prune.cc:74: tree pruning end, 1 roots, 70 extra nodes, 0 pruned nodes, max_depth=6\u001b[0m\n",
            "\u001b[34m[98]#011train-rmse:0.256891#011validation-rmse:0.297209\u001b[0m\n",
            "\u001b[34m[15:54:59] src/tree/updater_prune.cc:74: tree pruning end, 1 roots, 68 extra nodes, 0 pruned nodes, max_depth=6\u001b[0m\n",
            "\u001b[34m[99]#011train-rmse:0.256198#011validation-rmse:0.297637\u001b[0m\n",
            "\n",
            "2022-05-17 15:55:17 Uploading - Uploading generated training model\n",
            "2022-05-17 15:55:17 Completed - Training job completed\n",
            "Training seconds: 88\n",
            "Billable seconds: 88\n"
          ]
        }
      ],
      "source": [
        "xgboost.fit(data_channels)"
      ]
    },
    {
      "cell_type": "markdown",
      "metadata": {
        "id": "r31UfqN7i2Tu"
      },
      "source": [
        "# Deploy, previsões e avaliação"
      ]
    },
    {
      "cell_type": "code",
      "execution_count": null,
      "metadata": {
        "id": "cwIaV9dki2Tu",
        "outputId": "6d9d923e-51d0-4665-c6de-45770109071c"
      },
      "outputs": [
        {
          "name": "stdout",
          "output_type": "stream",
          "text": [
            "-------!"
          ]
        }
      ],
      "source": [
        "xgboost_classifier = xgboost.deploy(initial_instance_count = 1, instance_type = 'ml.m4.xlarge')"
      ]
    },
    {
      "cell_type": "code",
      "execution_count": null,
      "metadata": {
        "id": "CuX4fdzUi2Tu"
      },
      "outputs": [],
      "source": [
        "from sagemaker.serializers import CSVSerializer\n",
        "xgboost_classifier.serializer = CSVSerializer()"
      ]
    },
    {
      "cell_type": "code",
      "execution_count": null,
      "metadata": {
        "id": "O3Ky6xDEi2Tu",
        "outputId": "3b2f0568-1ef9-4baf-c1ff-82277f1249b5"
      },
      "outputs": [
        {
          "data": {
            "text/plain": [
              "((9769, 108), numpy.ndarray)"
            ]
          },
          "execution_count": 25,
          "metadata": {},
          "output_type": "execute_result"
        }
      ],
      "source": [
        "X_teste.shape, type(X_teste)"
      ]
    },
    {
      "cell_type": "code",
      "execution_count": null,
      "metadata": {
        "id": "syLJ9EMAi2Tv",
        "outputId": "53790666-7993-4810-fcb0-558dd815c86f"
      },
      "outputs": [
        {
          "data": {
            "text/plain": [
              "array([7.1665001e-01, 9.8000973e-01, 8.9295841e-05, ..., 1.3065693e-02,\n",
              "       2.0877716e-04, 9.9958044e-01], dtype=float32)"
            ]
          },
          "execution_count": 26,
          "metadata": {},
          "output_type": "execute_result"
        }
      ],
      "source": [
        "previsoes = np.array(xgboost_classifier.predict(X_teste).decode('utf-8').split(',')).astype(np.float32)\n",
        "previsoes"
      ]
    },
    {
      "cell_type": "code",
      "execution_count": null,
      "metadata": {
        "id": "Npac7f7Ni2Tv",
        "outputId": "6d7cb576-5d7a-4fd0-bd7a-611d085a70fb"
      },
      "outputs": [
        {
          "name": "stdout",
          "output_type": "stream",
          "text": [
            "[ True  True False ... False False  True]\n"
          ]
        }
      ],
      "source": [
        "previsoes = (previsoes >= 0.5)\n",
        "print(previsoes)"
      ]
    },
    {
      "cell_type": "code",
      "execution_count": null,
      "metadata": {
        "id": "kfgrczSii2Tv",
        "outputId": "428ec555-57e4-4e94-ee9e-e9aac7b8b6b5"
      },
      "outputs": [
        {
          "data": {
            "text/plain": [
              "((9769,), (9769,))"
            ]
          },
          "execution_count": 28,
          "metadata": {},
          "output_type": "execute_result"
        }
      ],
      "source": [
        "previsoes.shape, y_teste.shape"
      ]
    },
    {
      "cell_type": "code",
      "execution_count": null,
      "metadata": {
        "id": "y0zCZQqni2Tv"
      },
      "outputs": [],
      "source": [
        "from sklearn.metrics import confusion_matrix, classification_report, accuracy_score"
      ]
    },
    {
      "cell_type": "code",
      "execution_count": null,
      "metadata": {
        "id": "1yEssbZpi2Tw",
        "outputId": "a1702cfd-3a6d-4bde-a0e9-d41205778a8c"
      },
      "outputs": [
        {
          "data": {
            "text/plain": [
              "array([[6914,  451],\n",
              "       [ 821, 1583]])"
            ]
          },
          "execution_count": 30,
          "metadata": {},
          "output_type": "execute_result"
        }
      ],
      "source": [
        "cm = confusion_matrix(y_teste, previsoes)\n",
        "cm"
      ]
    },
    {
      "cell_type": "code",
      "execution_count": null,
      "metadata": {
        "id": "otml1We2i2Tw",
        "outputId": "833e878d-fa84-468a-c63d-0b97e2eba6df"
      },
      "outputs": [
        {
          "data": {
            "text/plain": [
              "0.8697921998157436"
            ]
          },
          "execution_count": 31,
          "metadata": {},
          "output_type": "execute_result"
        }
      ],
      "source": [
        "accuracy_score(y_teste, previsoes)"
      ]
    },
    {
      "cell_type": "code",
      "execution_count": null,
      "metadata": {
        "id": "AHYsobxJi2Tw",
        "outputId": "c4ec5983-afdd-4053-9f85-16ba07609da5"
      },
      "outputs": [
        {
          "name": "stdout",
          "output_type": "stream",
          "text": [
            "              precision    recall  f1-score   support\n",
            "\n",
            "         0.0       0.89      0.94      0.92      7365\n",
            "         1.0       0.78      0.66      0.71      2404\n",
            "\n",
            "    accuracy                           0.87      9769\n",
            "   macro avg       0.84      0.80      0.81      9769\n",
            "weighted avg       0.87      0.87      0.87      9769\n",
            "\n"
          ]
        }
      ],
      "source": [
        "print(classification_report(y_teste, previsoes))"
      ]
    },
    {
      "cell_type": "markdown",
      "metadata": {
        "id": "wZlREHvFi2Tx"
      },
      "source": [
        "# Tuning"
      ]
    },
    {
      "cell_type": "code",
      "execution_count": null,
      "metadata": {
        "id": "bfH1BAo8i2Ty"
      },
      "outputs": [],
      "source": [
        "# https://docs.aws.amazon.com/sagemaker/latest/dg/xgboost_hyperparameters.html\n",
        "tuning_job_config = {\n",
        "    \"ParameterRanges\": {\n",
        "      \"CategoricalParameterRanges\": [],\n",
        "      \"ContinuousParameterRanges\": [\n",
        "        {\n",
        "          \"MaxValue\": \"1\",\n",
        "          \"MinValue\": \"0\",\n",
        "          \"Name\": \"eta\"\n",
        "        },\n",
        "        {\n",
        "          \"MaxValue\": \"2\",\n",
        "          \"MinValue\": \"0\",\n",
        "          \"Name\": \"alpha\"\n",
        "        },\n",
        "        {\n",
        "          \"MaxValue\": \"10\",\n",
        "          \"MinValue\": \"1\",\n",
        "          \"Name\": \"min_child_weight\"\n",
        "        }\n",
        "      ],\n",
        "      \"IntegerParameterRanges\": [\n",
        "        {\n",
        "          \"MaxValue\": \"10\",\n",
        "          \"MinValue\": \"1\",\n",
        "          \"Name\": \"max_depth\"\n",
        "        }\n",
        "      ],\n",
        "      \"IntegerParameterRanges\": [\n",
        "        {\n",
        "          \"MaxValue\": \"300\",\n",
        "          \"MinValue\": \"50\",\n",
        "          \"Name\": \"num_round\"\n",
        "        }\n",
        "      ]\n",
        "    },\n",
        "    \"ResourceLimits\": {\n",
        "      \"MaxNumberOfTrainingJobs\": 9,\n",
        "      \"MaxParallelTrainingJobs\": 3\n",
        "    },\n",
        "    \"Strategy\": \"Bayesian\",\n",
        "    \"HyperParameterTuningJobObjective\": {\n",
        "      \"MetricName\": \"validation:error\",\n",
        "      \"Type\": \"Minimize\"\n",
        "    }\n",
        "  }"
      ]
    },
    {
      "cell_type": "code",
      "execution_count": null,
      "metadata": {
        "id": "-NVDxRI2i2Tz"
      },
      "outputs": [],
      "source": [
        "# https://www.analyticsvidhya.com/blog/2016/03/complete-guide-parameter-tuning-xgboost-with-codes-python/\n",
        "training_job_definition = {\n",
        "    \"AlgorithmSpecification\": {\n",
        "      \"TrainingImage\": container,\n",
        "      \"TrainingInputMode\": \"File\"\n",
        "    },\n",
        "    \"InputDataConfig\": [\n",
        "      {\n",
        "        \"ChannelName\": \"train\",\n",
        "        \"CompressionType\": \"None\",\n",
        "        \"ContentType\": \"csv\",\n",
        "        \"DataSource\": {\n",
        "          \"S3DataSource\": {\n",
        "            \"S3DataDistributionType\": \"FullyReplicated\",\n",
        "            \"S3DataType\": \"S3Prefix\",\n",
        "            \"S3Uri\": s3_train_data\n",
        "          }\n",
        "        }\n",
        "      },\n",
        "      {\n",
        "        \"ChannelName\": \"validation\",\n",
        "        \"CompressionType\": \"None\",\n",
        "        \"ContentType\": \"csv\",\n",
        "        \"DataSource\": {\n",
        "          \"S3DataSource\": {\n",
        "            \"S3DataDistributionType\": \"FullyReplicated\",\n",
        "            \"S3DataType\": \"S3Prefix\",\n",
        "            \"S3Uri\": s3_test_data\n",
        "          }\n",
        "        }\n",
        "      }\n",
        "    ],\n",
        "    \"OutputDataConfig\": {\n",
        "      \"S3OutputPath\": \"s3://{}/{}/output\".format(bucket,subpasta_modelo)\n",
        "    },\n",
        "    \"ResourceConfig\": {\n",
        "      \"InstanceCount\": 2,\n",
        "      \"InstanceType\": \"ml.c4.2xlarge\",\n",
        "      \"VolumeSizeInGB\": 10\n",
        "    },\n",
        "    \"RoleArn\": role,\n",
        "    \"StaticHyperParameters\": {\n",
        "      \"eval_metric\": \"error\",\n",
        "      \"objective\": \"binary:logistic\",\n",
        "      \"rate_drop\": \"0.3\",\n",
        "      \"tweedie_variance_power\": \"1.4\"\n",
        "    },\n",
        "    \"StoppingCondition\": {\n",
        "      \"MaxRuntimeInSeconds\": 43200\n",
        "    }\n",
        "}"
      ]
    },
    {
      "cell_type": "code",
      "execution_count": null,
      "metadata": {
        "id": "yBfKrI5Ki2Tz"
      },
      "outputs": [],
      "source": [
        "smclient = boto3.client('sagemaker')\n",
        "smclient.create_hyper_parameter_tuning_job(HyperParameterTuningJobName = \"xgboosttuningcensus\",\n",
        "                                          HyperParameterTuningJobConfig = tuning_job_config,\n",
        "                                          TrainingJobDefinition = training_job_definition)"
      ]
    },
    {
      "cell_type": "markdown",
      "metadata": {
        "id": "7ISMxG9ji2T5"
      },
      "source": [
        "# Construção do novo modelo"
      ]
    },
    {
      "cell_type": "code",
      "execution_count": null,
      "metadata": {
        "id": "7uQzB3gDi2T5",
        "outputId": "d8b9d97b-6dcb-49e1-c463-fa40fd825c84"
      },
      "outputs": [
        {
          "name": "stdout",
          "output_type": "stream",
          "text": [
            "2022-05-17 16:06:12 Starting - Starting the training job...ProfilerReport-1652803572: InProgress\n",
            "...\n",
            "2022-05-17 16:06:52 Starting - Preparing the instances for training......\n",
            "2022-05-17 16:08:11 Downloading - Downloading input data...\n",
            "2022-05-17 16:08:29 Training - Downloading the training image.....\u001b[34mArguments: train\u001b[0m\n",
            "\u001b[34m[2022-05-17:16:09:20:INFO] Running standalone xgboost training.\u001b[0m\n",
            "\u001b[34m[2022-05-17:16:09:20:INFO] File size need to be processed in the node: 7.07mb. Available memory size in the node: 23867.78mb\u001b[0m\n",
            "\u001b[34m[2022-05-17:16:09:20:INFO] Determined delimiter of CSV input is ','\u001b[0m\n",
            "\u001b[34m[16:09:20] S3DistributionType set as FullyReplicated\u001b[0m\n",
            "\u001b[34m[16:09:20] 22792x108 matrix with 2461536 entries loaded from /opt/ml/input/data/train?format=csv&label_column=0&delimiter=,\u001b[0m\n",
            "\u001b[34m[2022-05-17:16:09:20:INFO] Determined delimiter of CSV input is ','\u001b[0m\n",
            "\u001b[34m[16:09:20] S3DistributionType set as FullyReplicated\u001b[0m\n",
            "\u001b[34m[16:09:20] 9769x108 matrix with 1055052 entries loaded from /opt/ml/input/data/validation?format=csv&label_column=0&delimiter=,\u001b[0m\n",
            "\u001b[34m[16:09:20] src/tree/updater_prune.cc:74: tree pruning end, 1 roots, 82 extra nodes, 0 pruned nodes, max_depth=6\u001b[0m\n",
            "\u001b[34m[0]#011train-rmse:0.458458#011validation-rmse:0.458509\u001b[0m\n",
            "\u001b[34m[16:09:20] src/tree/updater_prune.cc:74: tree pruning end, 1 roots, 84 extra nodes, 0 pruned nodes, max_depth=6\u001b[0m\n",
            "\u001b[34m[1]#011train-rmse:0.424994#011validation-rmse:0.425125\u001b[0m\n",
            "\u001b[34m[16:09:20] src/tree/updater_prune.cc:74: tree pruning end, 1 roots, 82 extra nodes, 0 pruned nodes, max_depth=6\u001b[0m\n",
            "\u001b[34m[2]#011train-rmse:0.398586#011validation-rmse:0.398912\u001b[0m\n",
            "\u001b[34m[16:09:20] src/tree/updater_prune.cc:74: tree pruning end, 1 roots, 82 extra nodes, 0 pruned nodes, max_depth=6\u001b[0m\n",
            "\u001b[34m[3]#011train-rmse:0.377944#011validation-rmse:0.378426\u001b[0m\n",
            "\u001b[34m[16:09:20] src/tree/updater_prune.cc:74: tree pruning end, 1 roots, 84 extra nodes, 0 pruned nodes, max_depth=6\u001b[0m\n",
            "\u001b[34m[4]#011train-rmse:0.361812#011validation-rmse:0.362721\u001b[0m\n",
            "\u001b[34m[16:09:20] src/tree/updater_prune.cc:74: tree pruning end, 1 roots, 98 extra nodes, 0 pruned nodes, max_depth=6\u001b[0m\n",
            "\u001b[34m[5]#011train-rmse:0.348601#011validation-rmse:0.34983\u001b[0m\n",
            "\u001b[34m[16:09:20] src/tree/updater_prune.cc:74: tree pruning end, 1 roots, 90 extra nodes, 0 pruned nodes, max_depth=6\u001b[0m\n",
            "\u001b[34m[6]#011train-rmse:0.338335#011validation-rmse:0.33978\u001b[0m\n",
            "\u001b[34m[16:09:20] src/tree/updater_prune.cc:74: tree pruning end, 1 roots, 104 extra nodes, 0 pruned nodes, max_depth=6\u001b[0m\n",
            "\u001b[34m[7]#011train-rmse:0.330393#011validation-rmse:0.332176\u001b[0m\n",
            "\u001b[34m[16:09:20] src/tree/updater_prune.cc:74: tree pruning end, 1 roots, 86 extra nodes, 0 pruned nodes, max_depth=6\u001b[0m\n",
            "\u001b[34m[8]#011train-rmse:0.324344#011validation-rmse:0.326335\u001b[0m\n",
            "\u001b[34m[16:09:20] src/tree/updater_prune.cc:74: tree pruning end, 1 roots, 90 extra nodes, 0 pruned nodes, max_depth=6\u001b[0m\n",
            "\u001b[34m[9]#011train-rmse:0.319562#011validation-rmse:0.321797\u001b[0m\n",
            "\u001b[34m[16:09:20] src/tree/updater_prune.cc:74: tree pruning end, 1 roots, 96 extra nodes, 0 pruned nodes, max_depth=6\u001b[0m\n",
            "\u001b[34m[10]#011train-rmse:0.315523#011validation-rmse:0.318319\u001b[0m\n",
            "\u001b[34m[16:09:20] src/tree/updater_prune.cc:74: tree pruning end, 1 roots, 94 extra nodes, 0 pruned nodes, max_depth=6\u001b[0m\n",
            "\u001b[34m[11]#011train-rmse:0.312389#011validation-rmse:0.315562\u001b[0m\n",
            "\u001b[34m[16:09:20] src/tree/updater_prune.cc:74: tree pruning end, 1 roots, 102 extra nodes, 0 pruned nodes, max_depth=6\u001b[0m\n",
            "\u001b[34m[12]#011train-rmse:0.309594#011validation-rmse:0.313121\u001b[0m\n",
            "\u001b[34m[16:09:20] src/tree/updater_prune.cc:74: tree pruning end, 1 roots, 104 extra nodes, 0 pruned nodes, max_depth=6\u001b[0m\n",
            "\u001b[34m[13]#011train-rmse:0.307274#011validation-rmse:0.311175\u001b[0m\n",
            "\u001b[34m[16:09:20] src/tree/updater_prune.cc:74: tree pruning end, 1 roots, 98 extra nodes, 0 pruned nodes, max_depth=6\u001b[0m\n",
            "\u001b[34m[14]#011train-rmse:0.305441#011validation-rmse:0.309661\u001b[0m\n",
            "\u001b[34m[16:09:20] src/tree/updater_prune.cc:74: tree pruning end, 1 roots, 102 extra nodes, 0 pruned nodes, max_depth=6\u001b[0m\n",
            "\u001b[34m[15]#011train-rmse:0.303824#011validation-rmse:0.308643\u001b[0m\n",
            "\u001b[34m[16:09:20] src/tree/updater_prune.cc:74: tree pruning end, 1 roots, 116 extra nodes, 0 pruned nodes, max_depth=6\u001b[0m\n",
            "\u001b[34m[16]#011train-rmse:0.302292#011validation-rmse:0.307606\u001b[0m\n",
            "\u001b[34m[16:09:20] src/tree/updater_prune.cc:74: tree pruning end, 1 roots, 90 extra nodes, 0 pruned nodes, max_depth=6\u001b[0m\n",
            "\u001b[34m[17]#011train-rmse:0.301217#011validation-rmse:0.306895\u001b[0m\n",
            "\u001b[34m[16:09:20] src/tree/updater_prune.cc:74: tree pruning end, 1 roots, 108 extra nodes, 0 pruned nodes, max_depth=6\u001b[0m\n",
            "\u001b[34m[18]#011train-rmse:0.300036#011validation-rmse:0.306258\u001b[0m\n",
            "\u001b[34m[16:09:20] src/tree/updater_prune.cc:74: tree pruning end, 1 roots, 102 extra nodes, 0 pruned nodes, max_depth=6\u001b[0m\n",
            "\u001b[34m[19]#011train-rmse:0.299106#011validation-rmse:0.30562\u001b[0m\n",
            "\u001b[34m[16:09:20] src/tree/updater_prune.cc:74: tree pruning end, 1 roots, 90 extra nodes, 0 pruned nodes, max_depth=6\u001b[0m\n",
            "\u001b[34m[20]#011train-rmse:0.298398#011validation-rmse:0.305123\u001b[0m\n",
            "\u001b[34m[16:09:20] src/tree/updater_prune.cc:74: tree pruning end, 1 roots, 116 extra nodes, 0 pruned nodes, max_depth=6\u001b[0m\n",
            "\u001b[34m[21]#011train-rmse:0.297284#011validation-rmse:0.304783\u001b[0m\n",
            "\u001b[34m[16:09:20] src/tree/updater_prune.cc:74: tree pruning end, 1 roots, 100 extra nodes, 0 pruned nodes, max_depth=6\u001b[0m\n",
            "\u001b[34m[22]#011train-rmse:0.296555#011validation-rmse:0.304437\u001b[0m\n",
            "\u001b[34m[16:09:20] src/tree/updater_prune.cc:74: tree pruning end, 1 roots, 84 extra nodes, 0 pruned nodes, max_depth=6\u001b[0m\n",
            "\u001b[34m[23]#011train-rmse:0.295744#011validation-rmse:0.303679\u001b[0m\n",
            "\u001b[34m[16:09:20] src/tree/updater_prune.cc:74: tree pruning end, 1 roots, 88 extra nodes, 0 pruned nodes, max_depth=6\u001b[0m\n",
            "\u001b[34m[24]#011train-rmse:0.295128#011validation-rmse:0.30337\u001b[0m\n",
            "\u001b[34m[16:09:20] src/tree/updater_prune.cc:74: tree pruning end, 1 roots, 98 extra nodes, 0 pruned nodes, max_depth=6\u001b[0m\n",
            "\u001b[34m[25]#011train-rmse:0.294434#011validation-rmse:0.303192\u001b[0m\n",
            "\u001b[34m[16:09:21] src/tree/updater_prune.cc:74: tree pruning end, 1 roots, 66 extra nodes, 0 pruned nodes, max_depth=6\u001b[0m\n",
            "\u001b[34m[26]#011train-rmse:0.293996#011validation-rmse:0.302945\u001b[0m\n",
            "\u001b[34m[16:09:21] src/tree/updater_prune.cc:74: tree pruning end, 1 roots, 108 extra nodes, 0 pruned nodes, max_depth=6\u001b[0m\n",
            "\u001b[34m[27]#011train-rmse:0.29343#011validation-rmse:0.302782\u001b[0m\n",
            "\u001b[34m[16:09:21] src/tree/updater_prune.cc:74: tree pruning end, 1 roots, 86 extra nodes, 0 pruned nodes, max_depth=6\u001b[0m\n",
            "\u001b[34m[28]#011train-rmse:0.292974#011validation-rmse:0.302566\u001b[0m\n",
            "\u001b[34m[16:09:21] src/tree/updater_prune.cc:74: tree pruning end, 1 roots, 84 extra nodes, 0 pruned nodes, max_depth=6\u001b[0m\n",
            "\u001b[34m[29]#011train-rmse:0.292566#011validation-rmse:0.302458\u001b[0m\n",
            "\u001b[34m[16:09:21] src/tree/updater_prune.cc:74: tree pruning end, 1 roots, 96 extra nodes, 0 pruned nodes, max_depth=6\u001b[0m\n",
            "\u001b[34m[30]#011train-rmse:0.291928#011validation-rmse:0.301966\u001b[0m\n",
            "\u001b[34m[16:09:21] src/tree/updater_prune.cc:74: tree pruning end, 1 roots, 106 extra nodes, 0 pruned nodes, max_depth=6\u001b[0m\n",
            "\u001b[34m[31]#011train-rmse:0.291345#011validation-rmse:0.301821\u001b[0m\n",
            "\u001b[34m[16:09:21] src/tree/updater_prune.cc:74: tree pruning end, 1 roots, 104 extra nodes, 0 pruned nodes, max_depth=6\u001b[0m\n",
            "\u001b[34m[32]#011train-rmse:0.290718#011validation-rmse:0.301745\u001b[0m\n",
            "\u001b[34m[16:09:21] src/tree/updater_prune.cc:74: tree pruning end, 1 roots, 74 extra nodes, 0 pruned nodes, max_depth=6\u001b[0m\n",
            "\u001b[34m[33]#011train-rmse:0.290405#011validation-rmse:0.301638\u001b[0m\n",
            "\u001b[34m[16:09:21] src/tree/updater_prune.cc:74: tree pruning end, 1 roots, 62 extra nodes, 0 pruned nodes, max_depth=6\u001b[0m\n",
            "\u001b[34m[34]#011train-rmse:0.290031#011validation-rmse:0.301343\u001b[0m\n",
            "\u001b[34m[16:09:21] src/tree/updater_prune.cc:74: tree pruning end, 1 roots, 98 extra nodes, 0 pruned nodes, max_depth=6\u001b[0m\n",
            "\u001b[34m[35]#011train-rmse:0.289528#011validation-rmse:0.301327\u001b[0m\n",
            "\u001b[34m[16:09:21] src/tree/updater_prune.cc:74: tree pruning end, 1 roots, 100 extra nodes, 0 pruned nodes, max_depth=6\u001b[0m\n",
            "\u001b[34m[36]#011train-rmse:0.289037#011validation-rmse:0.301194\u001b[0m\n",
            "\u001b[34m[16:09:21] src/tree/updater_prune.cc:74: tree pruning end, 1 roots, 92 extra nodes, 0 pruned nodes, max_depth=6\u001b[0m\n",
            "\u001b[34m[37]#011train-rmse:0.288254#011validation-rmse:0.300675\u001b[0m\n",
            "\u001b[34m[16:09:21] src/tree/updater_prune.cc:74: tree pruning end, 1 roots, 100 extra nodes, 0 pruned nodes, max_depth=6\u001b[0m\n",
            "\u001b[34m[38]#011train-rmse:0.287871#011validation-rmse:0.300408\u001b[0m\n",
            "\u001b[34m[16:09:21] src/tree/updater_prune.cc:74: tree pruning end, 1 roots, 94 extra nodes, 0 pruned nodes, max_depth=6\u001b[0m\n",
            "\u001b[34m[39]#011train-rmse:0.287421#011validation-rmse:0.300364\u001b[0m\n",
            "\u001b[34m[16:09:21] src/tree/updater_prune.cc:74: tree pruning end, 1 roots, 100 extra nodes, 0 pruned nodes, max_depth=6\u001b[0m\n",
            "\u001b[34m[40]#011train-rmse:0.286728#011validation-rmse:0.299976\u001b[0m\n",
            "\u001b[34m[16:09:21] src/tree/updater_prune.cc:74: tree pruning end, 1 roots, 72 extra nodes, 0 pruned nodes, max_depth=6\u001b[0m\n",
            "\u001b[34m[41]#011train-rmse:0.286275#011validation-rmse:0.299774\u001b[0m\n",
            "\u001b[34m[16:09:21] src/tree/updater_prune.cc:74: tree pruning end, 1 roots, 94 extra nodes, 0 pruned nodes, max_depth=6\u001b[0m\n",
            "\u001b[34m[42]#011train-rmse:0.286022#011validation-rmse:0.299757\u001b[0m\n",
            "\u001b[34m[16:09:21] src/tree/updater_prune.cc:74: tree pruning end, 1 roots, 80 extra nodes, 0 pruned nodes, max_depth=6\u001b[0m\n",
            "\u001b[34m[43]#011train-rmse:0.285742#011validation-rmse:0.299782\u001b[0m\n",
            "\u001b[34m[16:09:21] src/tree/updater_prune.cc:74: tree pruning end, 1 roots, 108 extra nodes, 0 pruned nodes, max_depth=6\u001b[0m\n",
            "\u001b[34m[44]#011train-rmse:0.285295#011validation-rmse:0.29985\u001b[0m\n",
            "\u001b[34m[16:09:21] src/tree/updater_prune.cc:74: tree pruning end, 1 roots, 72 extra nodes, 0 pruned nodes, max_depth=6\u001b[0m\n",
            "\u001b[34m[45]#011train-rmse:0.285056#011validation-rmse:0.299703\u001b[0m\n",
            "\u001b[34m[16:09:21] src/tree/updater_prune.cc:74: tree pruning end, 1 roots, 106 extra nodes, 0 pruned nodes, max_depth=6\u001b[0m\n",
            "\u001b[34m[46]#011train-rmse:0.284653#011validation-rmse:0.29973\u001b[0m\n",
            "\u001b[34m[16:09:21] src/tree/updater_prune.cc:74: tree pruning end, 1 roots, 66 extra nodes, 0 pruned nodes, max_depth=6\u001b[0m\n",
            "\u001b[34m[47]#011train-rmse:0.284327#011validation-rmse:0.29968\u001b[0m\n",
            "\u001b[34m[16:09:21] src/tree/updater_prune.cc:74: tree pruning end, 1 roots, 98 extra nodes, 0 pruned nodes, max_depth=6\u001b[0m\n",
            "\u001b[34m[48]#011train-rmse:0.283969#011validation-rmse:0.299516\u001b[0m\n",
            "\u001b[34m[16:09:21] src/tree/updater_prune.cc:74: tree pruning end, 1 roots, 64 extra nodes, 0 pruned nodes, max_depth=6\u001b[0m\n",
            "\u001b[34m[49]#011train-rmse:0.283855#011validation-rmse:0.299459\u001b[0m\n",
            "\u001b[34m[16:09:21] src/tree/updater_prune.cc:74: tree pruning end, 1 roots, 92 extra nodes, 0 pruned nodes, max_depth=6\u001b[0m\n",
            "\u001b[34m[50]#011train-rmse:0.28359#011validation-rmse:0.2995\u001b[0m\n",
            "\u001b[34m[16:09:21] src/tree/updater_prune.cc:74: tree pruning end, 1 roots, 78 extra nodes, 0 pruned nodes, max_depth=6\u001b[0m\n",
            "\u001b[34m[51]#011train-rmse:0.283412#011validation-rmse:0.299503\u001b[0m\n",
            "\u001b[34m[16:09:21] src/tree/updater_prune.cc:74: tree pruning end, 1 roots, 72 extra nodes, 0 pruned nodes, max_depth=6\u001b[0m\n",
            "\u001b[34m[52]#011train-rmse:0.283182#011validation-rmse:0.299456\u001b[0m\n",
            "\u001b[34m[16:09:21] src/tree/updater_prune.cc:74: tree pruning end, 1 roots, 78 extra nodes, 0 pruned nodes, max_depth=6\u001b[0m\n",
            "\u001b[34m[53]#011train-rmse:0.282821#011validation-rmse:0.299479\u001b[0m\n",
            "\u001b[34m[16:09:21] src/tree/updater_prune.cc:74: tree pruning end, 1 roots, 80 extra nodes, 0 pruned nodes, max_depth=6\u001b[0m\n",
            "\u001b[34m[54]#011train-rmse:0.28248#011validation-rmse:0.299466\u001b[0m\n",
            "\u001b[34m[16:09:21] src/tree/updater_prune.cc:74: tree pruning end, 1 roots, 78 extra nodes, 0 pruned nodes, max_depth=6\u001b[0m\n",
            "\u001b[34m[55]#011train-rmse:0.282299#011validation-rmse:0.299477\u001b[0m\n",
            "\u001b[34m[16:09:21] src/tree/updater_prune.cc:74: tree pruning end, 1 roots, 74 extra nodes, 0 pruned nodes, max_depth=6\u001b[0m\n",
            "\u001b[34m[56]#011train-rmse:0.282119#011validation-rmse:0.299493\u001b[0m\n",
            "\u001b[34m[16:09:21] src/tree/updater_prune.cc:74: tree pruning end, 1 roots, 72 extra nodes, 0 pruned nodes, max_depth=6\u001b[0m\n",
            "\u001b[34m[57]#011train-rmse:0.281806#011validation-rmse:0.299331\u001b[0m\n",
            "\u001b[34m[16:09:21] src/tree/updater_prune.cc:74: tree pruning end, 1 roots, 94 extra nodes, 0 pruned nodes, max_depth=6\u001b[0m\n",
            "\u001b[34m[58]#011train-rmse:0.281503#011validation-rmse:0.299425\u001b[0m\n",
            "\u001b[34m[16:09:21] src/tree/updater_prune.cc:74: tree pruning end, 1 roots, 76 extra nodes, 0 pruned nodes, max_depth=6\u001b[0m\n",
            "\u001b[34m[59]#011train-rmse:0.281357#011validation-rmse:0.299415\u001b[0m\n",
            "\u001b[34m[16:09:21] src/tree/updater_prune.cc:74: tree pruning end, 1 roots, 94 extra nodes, 0 pruned nodes, max_depth=6\u001b[0m\n",
            "\u001b[34m[60]#011train-rmse:0.281177#011validation-rmse:0.299411\u001b[0m\n",
            "\u001b[34m[16:09:21] src/tree/updater_prune.cc:74: tree pruning end, 1 roots, 70 extra nodes, 0 pruned nodes, max_depth=6\u001b[0m\n",
            "\u001b[34m[61]#011train-rmse:0.280946#011validation-rmse:0.299401\u001b[0m\n",
            "\u001b[34m[16:09:22] src/tree/updater_prune.cc:74: tree pruning end, 1 roots, 76 extra nodes, 0 pruned nodes, max_depth=6\u001b[0m\n",
            "\u001b[34m[62]#011train-rmse:0.280829#011validation-rmse:0.299395\u001b[0m\n",
            "\u001b[34m[16:09:22] src/tree/updater_prune.cc:74: tree pruning end, 1 roots, 80 extra nodes, 0 pruned nodes, max_depth=6\u001b[0m\n",
            "\u001b[34m[63]#011train-rmse:0.280629#011validation-rmse:0.299434\u001b[0m\n",
            "\u001b[34m[16:09:22] src/tree/updater_prune.cc:74: tree pruning end, 1 roots, 92 extra nodes, 0 pruned nodes, max_depth=6\u001b[0m\n",
            "\u001b[34m[64]#011train-rmse:0.280391#011validation-rmse:0.299438\u001b[0m\n",
            "\u001b[34m[16:09:22] src/tree/updater_prune.cc:74: tree pruning end, 1 roots, 98 extra nodes, 0 pruned nodes, max_depth=6\u001b[0m\n",
            "\u001b[34m[65]#011train-rmse:0.280084#011validation-rmse:0.299276\u001b[0m\n",
            "\u001b[34m[16:09:22] src/tree/updater_prune.cc:74: tree pruning end, 1 roots, 54 extra nodes, 0 pruned nodes, max_depth=6\u001b[0m\n",
            "\u001b[34m[66]#011train-rmse:0.279897#011validation-rmse:0.299283\u001b[0m\n",
            "\u001b[34m[16:09:22] src/tree/updater_prune.cc:74: tree pruning end, 1 roots, 80 extra nodes, 0 pruned nodes, max_depth=6\u001b[0m\n",
            "\u001b[34m[67]#011train-rmse:0.279569#011validation-rmse:0.299206\u001b[0m\n",
            "\u001b[34m[16:09:22] src/tree/updater_prune.cc:74: tree pruning end, 1 roots, 80 extra nodes, 0 pruned nodes, max_depth=6\u001b[0m\n",
            "\u001b[34m[68]#011train-rmse:0.279398#011validation-rmse:0.299069\u001b[0m\n",
            "\u001b[34m[16:09:22] src/tree/updater_prune.cc:74: tree pruning end, 1 roots, 106 extra nodes, 0 pruned nodes, max_depth=6\u001b[0m\n",
            "\u001b[34m[69]#011train-rmse:0.279022#011validation-rmse:0.29895\u001b[0m\n",
            "\u001b[34m[16:09:22] src/tree/updater_prune.cc:74: tree pruning end, 1 roots, 70 extra nodes, 0 pruned nodes, max_depth=6\u001b[0m\n",
            "\u001b[34m[70]#011train-rmse:0.278818#011validation-rmse:0.298997\u001b[0m\n",
            "\u001b[34m[16:09:22] src/tree/updater_prune.cc:74: tree pruning end, 1 roots, 88 extra nodes, 0 pruned nodes, max_depth=6\u001b[0m\n",
            "\u001b[34m[71]#011train-rmse:0.27856#011validation-rmse:0.299071\u001b[0m\n",
            "\u001b[34m[16:09:22] src/tree/updater_prune.cc:74: tree pruning end, 1 roots, 94 extra nodes, 0 pruned nodes, max_depth=6\u001b[0m\n",
            "\u001b[34m[72]#011train-rmse:0.278431#011validation-rmse:0.299111\u001b[0m\n",
            "\u001b[34m[16:09:22] src/tree/updater_prune.cc:74: tree pruning end, 1 roots, 62 extra nodes, 0 pruned nodes, max_depth=6\u001b[0m\n",
            "\u001b[34m[73]#011train-rmse:0.278255#011validation-rmse:0.299104\u001b[0m\n",
            "\u001b[34m[16:09:22] src/tree/updater_prune.cc:74: tree pruning end, 1 roots, 76 extra nodes, 0 pruned nodes, max_depth=6\u001b[0m\n",
            "\u001b[34m[74]#011train-rmse:0.278011#011validation-rmse:0.298985\u001b[0m\n",
            "\u001b[34m[16:09:22] src/tree/updater_prune.cc:74: tree pruning end, 1 roots, 86 extra nodes, 0 pruned nodes, max_depth=6\u001b[0m\n",
            "\u001b[34m[75]#011train-rmse:0.277685#011validation-rmse:0.298927\u001b[0m\n",
            "\u001b[34m[16:09:22] src/tree/updater_prune.cc:74: tree pruning end, 1 roots, 80 extra nodes, 0 pruned nodes, max_depth=6\u001b[0m\n",
            "\u001b[34m[76]#011train-rmse:0.277526#011validation-rmse:0.298932\u001b[0m\n",
            "\u001b[34m[16:09:22] src/tree/updater_prune.cc:74: tree pruning end, 1 roots, 82 extra nodes, 0 pruned nodes, max_depth=6\u001b[0m\n",
            "\u001b[34m[77]#011train-rmse:0.277284#011validation-rmse:0.298716\u001b[0m\n",
            "\u001b[34m[16:09:22] src/tree/updater_prune.cc:74: tree pruning end, 1 roots, 76 extra nodes, 0 pruned nodes, max_depth=6\u001b[0m\n",
            "\u001b[34m[78]#011train-rmse:0.277056#011validation-rmse:0.298778\u001b[0m\n",
            "\u001b[34m[16:09:22] src/tree/updater_prune.cc:74: tree pruning end, 1 roots, 60 extra nodes, 0 pruned nodes, max_depth=6\u001b[0m\n",
            "\u001b[34m[79]#011train-rmse:0.276983#011validation-rmse:0.298797\u001b[0m\n",
            "\u001b[34m[16:09:22] src/tree/updater_prune.cc:74: tree pruning end, 1 roots, 72 extra nodes, 0 pruned nodes, max_depth=6\u001b[0m\n",
            "\u001b[34m[80]#011train-rmse:0.276841#011validation-rmse:0.298664\u001b[0m\n",
            "\u001b[34m[16:09:22] src/tree/updater_prune.cc:74: tree pruning end, 1 roots, 72 extra nodes, 0 pruned nodes, max_depth=6\u001b[0m\n",
            "\u001b[34m[81]#011train-rmse:0.276628#011validation-rmse:0.29869\u001b[0m\n",
            "\u001b[34m[16:09:22] src/tree/updater_prune.cc:74: tree pruning end, 1 roots, 78 extra nodes, 0 pruned nodes, max_depth=6\u001b[0m\n",
            "\u001b[34m[82]#011train-rmse:0.276391#011validation-rmse:0.298672\u001b[0m\n",
            "\u001b[34m[16:09:22] src/tree/updater_prune.cc:74: tree pruning end, 1 roots, 70 extra nodes, 0 pruned nodes, max_depth=6\u001b[0m\n",
            "\u001b[34m[83]#011train-rmse:0.276215#011validation-rmse:0.298686\u001b[0m\n",
            "\u001b[34m[16:09:22] src/tree/updater_prune.cc:74: tree pruning end, 1 roots, 82 extra nodes, 0 pruned nodes, max_depth=6\u001b[0m\n",
            "\u001b[34m[84]#011train-rmse:0.276042#011validation-rmse:0.298695\u001b[0m\n",
            "\u001b[34m[16:09:22] src/tree/updater_prune.cc:74: tree pruning end, 1 roots, 90 extra nodes, 0 pruned nodes, max_depth=6\u001b[0m\n",
            "\u001b[34m[85]#011train-rmse:0.275905#011validation-rmse:0.298694\u001b[0m\n",
            "\u001b[34m[16:09:22] src/tree/updater_prune.cc:74: tree pruning end, 1 roots, 60 extra nodes, 0 pruned nodes, max_depth=6\u001b[0m\n",
            "\u001b[34m[86]#011train-rmse:0.275779#011validation-rmse:0.298748\u001b[0m\n",
            "\u001b[34m[16:09:22] src/tree/updater_prune.cc:74: tree pruning end, 1 roots, 76 extra nodes, 0 pruned nodes, max_depth=6\u001b[0m\n",
            "\u001b[34m[87]#011train-rmse:0.275561#011validation-rmse:0.298691\u001b[0m\n",
            "\u001b[34m[16:09:22] src/tree/updater_prune.cc:74: tree pruning end, 1 roots, 110 extra nodes, 0 pruned nodes, max_depth=6\u001b[0m\n",
            "\u001b[34m[88]#011train-rmse:0.275266#011validation-rmse:0.298705\u001b[0m\n",
            "\u001b[34m[16:09:22] src/tree/updater_prune.cc:74: tree pruning end, 1 roots, 74 extra nodes, 0 pruned nodes, max_depth=6\u001b[0m\n",
            "\u001b[34m[89]#011train-rmse:0.275132#011validation-rmse:0.298651\u001b[0m\n",
            "\u001b[34m[16:09:22] src/tree/updater_prune.cc:74: tree pruning end, 1 roots, 68 extra nodes, 0 pruned nodes, max_depth=6\u001b[0m\n",
            "\u001b[34m[90]#011train-rmse:0.275024#011validation-rmse:0.298654\u001b[0m\n",
            "\u001b[34m[16:09:22] src/tree/updater_prune.cc:74: tree pruning end, 1 roots, 88 extra nodes, 0 pruned nodes, max_depth=6\u001b[0m\n",
            "\u001b[34m[91]#011train-rmse:0.274699#011validation-rmse:0.298721\u001b[0m\n",
            "\u001b[34m[16:09:22] src/tree/updater_prune.cc:74: tree pruning end, 1 roots, 80 extra nodes, 0 pruned nodes, max_depth=6\u001b[0m\n",
            "\u001b[34m[92]#011train-rmse:0.274567#011validation-rmse:0.298692\u001b[0m\n",
            "\u001b[34m[16:09:22] src/tree/updater_prune.cc:74: tree pruning end, 1 roots, 52 extra nodes, 0 pruned nodes, max_depth=6\u001b[0m\n",
            "\u001b[34m[93]#011train-rmse:0.274454#011validation-rmse:0.298742\u001b[0m\n",
            "\u001b[34m[16:09:22] src/tree/updater_prune.cc:74: tree pruning end, 1 roots, 54 extra nodes, 0 pruned nodes, max_depth=6\u001b[0m\n",
            "\u001b[34m[94]#011train-rmse:0.274386#011validation-rmse:0.29872\u001b[0m\n",
            "\u001b[34m[16:09:22] src/tree/updater_prune.cc:74: tree pruning end, 1 roots, 66 extra nodes, 0 pruned nodes, max_depth=6\u001b[0m\n",
            "\u001b[34m[95]#011train-rmse:0.274298#011validation-rmse:0.298725\u001b[0m\n",
            "\u001b[34m[16:09:22] src/tree/updater_prune.cc:74: tree pruning end, 1 roots, 54 extra nodes, 0 pruned nodes, max_depth=6\u001b[0m\n",
            "\u001b[34m[96]#011train-rmse:0.274226#011validation-rmse:0.29865\u001b[0m\n",
            "\u001b[34m[16:09:22] src/tree/updater_prune.cc:74: tree pruning end, 1 roots, 74 extra nodes, 0 pruned nodes, max_depth=6\u001b[0m\n",
            "\u001b[34m[97]#011train-rmse:0.274045#011validation-rmse:0.298629\u001b[0m\n",
            "\u001b[34m[16:09:22] src/tree/updater_prune.cc:74: tree pruning end, 1 roots, 82 extra nodes, 0 pruned nodes, max_depth=6\u001b[0m\n",
            "\u001b[34m[98]#011train-rmse:0.273712#011validation-rmse:0.298655\u001b[0m\n",
            "\u001b[34m[16:09:23] src/tree/updater_prune.cc:74: tree pruning end, 1 roots, 102 extra nodes, 0 pruned nodes, max_depth=6\u001b[0m\n",
            "\u001b[34m[99]#011train-rmse:0.273384#011validation-rmse:0.298633\u001b[0m\n",
            "\u001b[34m[16:09:23] src/tree/updater_prune.cc:74: tree pruning end, 1 roots, 82 extra nodes, 0 pruned nodes, max_depth=6\u001b[0m\n",
            "\u001b[34m[100]#011train-rmse:0.273204#011validation-rmse:0.29866\u001b[0m\n",
            "\u001b[34m[16:09:23] src/tree/updater_prune.cc:74: tree pruning end, 1 roots, 80 extra nodes, 0 pruned nodes, max_depth=6\u001b[0m\n",
            "\u001b[34m[101]#011train-rmse:0.273022#011validation-rmse:0.2987\u001b[0m\n",
            "\n",
            "2022-05-17 16:09:29 Training - Training image download completed. Training in progress.\n",
            "2022-05-17 16:10:10 Uploading - Uploading generated training model\n",
            "2022-05-17 16:10:10 Completed - Training job completed\n",
            "Training seconds: 116\n",
            "Billable seconds: 116\n"
          ]
        }
      ],
      "source": [
        "container = image_uris.retrieve(framework='xgboost',region=boto3.Session().region_name,version='latest')\n",
        "xgboost_tuning = sagemaker.estimator.Estimator(image_uri = container,\n",
        "                                        role = role,\n",
        "                                        instance_count = 1,\n",
        "                                        instance_type = 'ml.m5.2xlarge',\n",
        "                                        output_path = output_location,\n",
        "                                        sagemaker_session = session)\n",
        "xgboost_tuning.set_hyperparameters(num_round = 102, eta = 0.14507612435685635,\n",
        "                                   min_child_weight = 2.412681801757289,\n",
        "                                   alpha = 0.3189676727624047, tweedie_variance_power = 1.4,\n",
        "                                   rate_drop = 0.3)\n",
        "xgboost_tuning.fit(data_channels)"
      ]
    },
    {
      "cell_type": "code",
      "execution_count": null,
      "metadata": {
        "id": "-fgXtKuEi2T6",
        "outputId": "86073bd0-1625-4d12-8fea-67cbe2580f10"
      },
      "outputs": [
        {
          "name": "stdout",
          "output_type": "stream",
          "text": [
            "------!"
          ]
        }
      ],
      "source": [
        "xgboost_classifier_tuning = xgboost_tuning.deploy(initial_instance_count = 1, instance_type = 'ml.m4.xlarge')"
      ]
    },
    {
      "cell_type": "code",
      "execution_count": null,
      "metadata": {
        "id": "mqv1Q0rJi2T6"
      },
      "outputs": [],
      "source": [
        "from sagemaker.serializers import CSVSerializer\n",
        "xgboost_classifier_tuning.serializer = CSVSerializer()\n",
        "previsoes = np.array(xgboost_classifier_tuning.predict(X_teste).decode('utf-8').split(',')).astype(np.float32)"
      ]
    },
    {
      "cell_type": "code",
      "execution_count": null,
      "metadata": {
        "id": "kWPgMb0Hi2T6",
        "outputId": "5aee50fd-a661-45b3-fd61-4979db0021ef"
      },
      "outputs": [
        {
          "data": {
            "text/plain": [
              "array([ 0.690067  ,  0.91854674, -0.00379324, ...,  0.01779461,\n",
              "       -0.00613862,  0.9809268 ], dtype=float32)"
            ]
          },
          "execution_count": 36,
          "metadata": {},
          "output_type": "execute_result"
        }
      ],
      "source": [
        "previsoes"
      ]
    },
    {
      "cell_type": "code",
      "execution_count": null,
      "metadata": {
        "id": "-HWVcelhi2T6",
        "outputId": "aa542411-a338-45ee-8d59-6b1206556cb6"
      },
      "outputs": [
        {
          "data": {
            "text/plain": [
              "array([ True,  True, False, ..., False, False,  True])"
            ]
          },
          "execution_count": 37,
          "metadata": {},
          "output_type": "execute_result"
        }
      ],
      "source": [
        "previsoes = (previsoes >= 0.5)\n",
        "previsoes"
      ]
    },
    {
      "cell_type": "code",
      "execution_count": null,
      "metadata": {
        "id": "oCAfBejJi2T6",
        "outputId": "67f55133-8ccb-4207-a6fb-470819217a8f"
      },
      "outputs": [
        {
          "data": {
            "text/plain": [
              "array([0, 1, 0, ..., 0, 0, 1])"
            ]
          },
          "execution_count": 38,
          "metadata": {},
          "output_type": "execute_result"
        }
      ],
      "source": [
        "y_teste = np.array(y_teste).astype(int)\n",
        "y_teste"
      ]
    },
    {
      "cell_type": "code",
      "execution_count": null,
      "metadata": {
        "id": "hbz1h6dCi2T7",
        "outputId": "88b10689-8eaa-47b3-cf8f-41dc8a0c6648"
      },
      "outputs": [
        {
          "data": {
            "text/plain": [
              "((9769,), (9769,))"
            ]
          },
          "execution_count": 39,
          "metadata": {},
          "output_type": "execute_result"
        }
      ],
      "source": [
        "previsoes.shape, y_teste.shape"
      ]
    },
    {
      "cell_type": "code",
      "execution_count": null,
      "metadata": {
        "id": "Tf1iR4Bmi2T7",
        "outputId": "44c3416d-8501-4afa-95c3-8f35c374279b"
      },
      "outputs": [
        {
          "data": {
            "text/plain": [
              "array([[6974,  391],\n",
              "       [ 855, 1549]])"
            ]
          },
          "execution_count": 40,
          "metadata": {},
          "output_type": "execute_result"
        }
      ],
      "source": [
        "from sklearn.metrics import confusion_matrix, classification_report, accuracy_score\n",
        "cm = confusion_matrix(y_teste, previsoes)\n",
        "cm"
      ]
    },
    {
      "cell_type": "code",
      "execution_count": null,
      "metadata": {
        "id": "JqiY6eNli2T7",
        "outputId": "f78ed5fa-2d60-4f3e-baec-5a44d859b6be"
      },
      "outputs": [
        {
          "data": {
            "text/plain": [
              "0.8724536800081891"
            ]
          },
          "execution_count": 41,
          "metadata": {},
          "output_type": "execute_result"
        }
      ],
      "source": [
        "accuracy_score(y_teste, previsoes)"
      ]
    },
    {
      "cell_type": "code",
      "execution_count": null,
      "metadata": {
        "id": "cYJ0Ltski2T7",
        "outputId": "37eeb753-565c-482b-f485-95db975619b8"
      },
      "outputs": [
        {
          "name": "stdout",
          "output_type": "stream",
          "text": [
            "              precision    recall  f1-score   support\n",
            "\n",
            "           0       0.89      0.95      0.92      7365\n",
            "           1       0.80      0.64      0.71      2404\n",
            "\n",
            "    accuracy                           0.87      9769\n",
            "   macro avg       0.84      0.80      0.82      9769\n",
            "weighted avg       0.87      0.87      0.87      9769\n",
            "\n"
          ]
        }
      ],
      "source": [
        "print(classification_report(y_teste, previsoes))"
      ]
    }
  ],
  "metadata": {
    "instance_type": "ml.t3.medium",
    "kernelspec": {
      "display_name": "Python 3 (Data Science)",
      "language": "python",
      "name": "python3__SAGEMAKER_INTERNAL__arn:aws:sagemaker:sa-east-1:782484402741:image/datascience-1.0"
    },
    "language_info": {
      "codemirror_mode": {
        "name": "ipython",
        "version": 3
      },
      "file_extension": ".py",
      "mimetype": "text/x-python",
      "name": "python",
      "nbconvert_exporter": "python",
      "pygments_lexer": "ipython3",
      "version": "3.7.10"
    },
    "colab": {
      "provenance": [],
      "include_colab_link": true
    }
  },
  "nbformat": 4,
  "nbformat_minor": 0
}